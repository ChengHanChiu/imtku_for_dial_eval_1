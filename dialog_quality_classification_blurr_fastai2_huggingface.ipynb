{
  "nbformat": 4,
  "nbformat_minor": 0,
  "metadata": {
    "orig_nbformat": 2,
    "kernelspec": {
      "name": "python3",
      "display_name": "Python 3"
    },
    "colab": {
      "name": "dialog_quality_classification_blurr_fastai2_huggingface.ipynb",
      "provenance": [],
      "collapsed_sections": [],
      "include_colab_link": true
    },
    "accelerator": "GPU",
    "widgets": {
      "application/vnd.jupyter.widget-state+json": {
        "c1bc6db408564b7e842163bf311ced1d": {
          "model_module": "@jupyter-widgets/controls",
          "model_name": "HBoxModel",
          "state": {
            "_view_name": "HBoxView",
            "_dom_classes": [],
            "_model_name": "HBoxModel",
            "_view_module": "@jupyter-widgets/controls",
            "_model_module_version": "1.5.0",
            "_view_count": null,
            "_view_module_version": "1.5.0",
            "box_style": "",
            "layout": "IPY_MODEL_3358dc7eaddb4871bf4431e1ca1b503b",
            "_model_module": "@jupyter-widgets/controls",
            "children": [
              "IPY_MODEL_c944dd62e96546d99575148c81ead8d6",
              "IPY_MODEL_34410bb920224b0c908d8e366a519aa9"
            ]
          }
        },
        "3358dc7eaddb4871bf4431e1ca1b503b": {
          "model_module": "@jupyter-widgets/base",
          "model_name": "LayoutModel",
          "state": {
            "_view_name": "LayoutView",
            "grid_template_rows": null,
            "right": null,
            "justify_content": null,
            "_view_module": "@jupyter-widgets/base",
            "overflow": null,
            "_model_module_version": "1.2.0",
            "_view_count": null,
            "flex_flow": null,
            "width": null,
            "min_width": null,
            "border": null,
            "align_items": null,
            "bottom": null,
            "_model_module": "@jupyter-widgets/base",
            "top": null,
            "grid_column": null,
            "overflow_y": null,
            "overflow_x": null,
            "grid_auto_flow": null,
            "grid_area": null,
            "grid_template_columns": null,
            "flex": null,
            "_model_name": "LayoutModel",
            "justify_items": null,
            "grid_row": null,
            "max_height": null,
            "align_content": null,
            "visibility": null,
            "align_self": null,
            "height": null,
            "min_height": null,
            "padding": null,
            "grid_auto_rows": null,
            "grid_gap": null,
            "max_width": null,
            "order": null,
            "_view_module_version": "1.2.0",
            "grid_template_areas": null,
            "object_position": null,
            "object_fit": null,
            "grid_auto_columns": null,
            "margin": null,
            "display": null,
            "left": null
          }
        },
        "c944dd62e96546d99575148c81ead8d6": {
          "model_module": "@jupyter-widgets/controls",
          "model_name": "FloatProgressModel",
          "state": {
            "_view_name": "ProgressView",
            "style": "IPY_MODEL_b54ec0feee90409d82631c05ea41b20a",
            "_dom_classes": [],
            "description": "Downloading: 100%",
            "_model_name": "FloatProgressModel",
            "bar_style": "success",
            "max": 624,
            "_view_module": "@jupyter-widgets/controls",
            "_model_module_version": "1.5.0",
            "value": 624,
            "_view_count": null,
            "_view_module_version": "1.5.0",
            "orientation": "horizontal",
            "min": 0,
            "description_tooltip": null,
            "_model_module": "@jupyter-widgets/controls",
            "layout": "IPY_MODEL_576b88de2afd49538c65eb76d45c0753"
          }
        },
        "34410bb920224b0c908d8e366a519aa9": {
          "model_module": "@jupyter-widgets/controls",
          "model_name": "HTMLModel",
          "state": {
            "_view_name": "HTMLView",
            "style": "IPY_MODEL_6d3f03c171ed4bf9bab4a3e575c8084d",
            "_dom_classes": [],
            "description": "",
            "_model_name": "HTMLModel",
            "placeholder": "​",
            "_view_module": "@jupyter-widgets/controls",
            "_model_module_version": "1.5.0",
            "value": " 624/624 [00:00&lt;00:00, 854B/s]",
            "_view_count": null,
            "_view_module_version": "1.5.0",
            "description_tooltip": null,
            "_model_module": "@jupyter-widgets/controls",
            "layout": "IPY_MODEL_5e0b209e34744d5d9e9c713987bfc64e"
          }
        },
        "b54ec0feee90409d82631c05ea41b20a": {
          "model_module": "@jupyter-widgets/controls",
          "model_name": "ProgressStyleModel",
          "state": {
            "_view_name": "StyleView",
            "_model_name": "ProgressStyleModel",
            "description_width": "initial",
            "_view_module": "@jupyter-widgets/base",
            "_model_module_version": "1.5.0",
            "_view_count": null,
            "_view_module_version": "1.2.0",
            "bar_color": null,
            "_model_module": "@jupyter-widgets/controls"
          }
        },
        "576b88de2afd49538c65eb76d45c0753": {
          "model_module": "@jupyter-widgets/base",
          "model_name": "LayoutModel",
          "state": {
            "_view_name": "LayoutView",
            "grid_template_rows": null,
            "right": null,
            "justify_content": null,
            "_view_module": "@jupyter-widgets/base",
            "overflow": null,
            "_model_module_version": "1.2.0",
            "_view_count": null,
            "flex_flow": null,
            "width": null,
            "min_width": null,
            "border": null,
            "align_items": null,
            "bottom": null,
            "_model_module": "@jupyter-widgets/base",
            "top": null,
            "grid_column": null,
            "overflow_y": null,
            "overflow_x": null,
            "grid_auto_flow": null,
            "grid_area": null,
            "grid_template_columns": null,
            "flex": null,
            "_model_name": "LayoutModel",
            "justify_items": null,
            "grid_row": null,
            "max_height": null,
            "align_content": null,
            "visibility": null,
            "align_self": null,
            "height": null,
            "min_height": null,
            "padding": null,
            "grid_auto_rows": null,
            "grid_gap": null,
            "max_width": null,
            "order": null,
            "_view_module_version": "1.2.0",
            "grid_template_areas": null,
            "object_position": null,
            "object_fit": null,
            "grid_auto_columns": null,
            "margin": null,
            "display": null,
            "left": null
          }
        },
        "6d3f03c171ed4bf9bab4a3e575c8084d": {
          "model_module": "@jupyter-widgets/controls",
          "model_name": "DescriptionStyleModel",
          "state": {
            "_view_name": "StyleView",
            "_model_name": "DescriptionStyleModel",
            "description_width": "",
            "_view_module": "@jupyter-widgets/base",
            "_model_module_version": "1.5.0",
            "_view_count": null,
            "_view_module_version": "1.2.0",
            "_model_module": "@jupyter-widgets/controls"
          }
        },
        "5e0b209e34744d5d9e9c713987bfc64e": {
          "model_module": "@jupyter-widgets/base",
          "model_name": "LayoutModel",
          "state": {
            "_view_name": "LayoutView",
            "grid_template_rows": null,
            "right": null,
            "justify_content": null,
            "_view_module": "@jupyter-widgets/base",
            "overflow": null,
            "_model_module_version": "1.2.0",
            "_view_count": null,
            "flex_flow": null,
            "width": null,
            "min_width": null,
            "border": null,
            "align_items": null,
            "bottom": null,
            "_model_module": "@jupyter-widgets/base",
            "top": null,
            "grid_column": null,
            "overflow_y": null,
            "overflow_x": null,
            "grid_auto_flow": null,
            "grid_area": null,
            "grid_template_columns": null,
            "flex": null,
            "_model_name": "LayoutModel",
            "justify_items": null,
            "grid_row": null,
            "max_height": null,
            "align_content": null,
            "visibility": null,
            "align_self": null,
            "height": null,
            "min_height": null,
            "padding": null,
            "grid_auto_rows": null,
            "grid_gap": null,
            "max_width": null,
            "order": null,
            "_view_module_version": "1.2.0",
            "grid_template_areas": null,
            "object_position": null,
            "object_fit": null,
            "grid_auto_columns": null,
            "margin": null,
            "display": null,
            "left": null
          }
        },
        "af54b62bbb854b88b3eb211f3295df69": {
          "model_module": "@jupyter-widgets/controls",
          "model_name": "HBoxModel",
          "state": {
            "_view_name": "HBoxView",
            "_dom_classes": [],
            "_model_name": "HBoxModel",
            "_view_module": "@jupyter-widgets/controls",
            "_model_module_version": "1.5.0",
            "_view_count": null,
            "_view_module_version": "1.5.0",
            "box_style": "",
            "layout": "IPY_MODEL_2e473efe4f6f47339469799ed3542117",
            "_model_module": "@jupyter-widgets/controls",
            "children": [
              "IPY_MODEL_2cef6afef1064da9b3fd3427bc486312",
              "IPY_MODEL_ca0aee99418e4335a40a580802f6a5f6"
            ]
          }
        },
        "2e473efe4f6f47339469799ed3542117": {
          "model_module": "@jupyter-widgets/base",
          "model_name": "LayoutModel",
          "state": {
            "_view_name": "LayoutView",
            "grid_template_rows": null,
            "right": null,
            "justify_content": null,
            "_view_module": "@jupyter-widgets/base",
            "overflow": null,
            "_model_module_version": "1.2.0",
            "_view_count": null,
            "flex_flow": null,
            "width": null,
            "min_width": null,
            "border": null,
            "align_items": null,
            "bottom": null,
            "_model_module": "@jupyter-widgets/base",
            "top": null,
            "grid_column": null,
            "overflow_y": null,
            "overflow_x": null,
            "grid_auto_flow": null,
            "grid_area": null,
            "grid_template_columns": null,
            "flex": null,
            "_model_name": "LayoutModel",
            "justify_items": null,
            "grid_row": null,
            "max_height": null,
            "align_content": null,
            "visibility": null,
            "align_self": null,
            "height": null,
            "min_height": null,
            "padding": null,
            "grid_auto_rows": null,
            "grid_gap": null,
            "max_width": null,
            "order": null,
            "_view_module_version": "1.2.0",
            "grid_template_areas": null,
            "object_position": null,
            "object_fit": null,
            "grid_auto_columns": null,
            "margin": null,
            "display": null,
            "left": null
          }
        },
        "2cef6afef1064da9b3fd3427bc486312": {
          "model_module": "@jupyter-widgets/controls",
          "model_name": "FloatProgressModel",
          "state": {
            "_view_name": "ProgressView",
            "style": "IPY_MODEL_1d94122ffeed4e7da4a5fad9be67a63f",
            "_dom_classes": [],
            "description": "Downloading: 100%",
            "_model_name": "FloatProgressModel",
            "bar_style": "success",
            "max": 109540,
            "_view_module": "@jupyter-widgets/controls",
            "_model_module_version": "1.5.0",
            "value": 109540,
            "_view_count": null,
            "_view_module_version": "1.5.0",
            "orientation": "horizontal",
            "min": 0,
            "description_tooltip": null,
            "_model_module": "@jupyter-widgets/controls",
            "layout": "IPY_MODEL_e85c309f12424395b00d7d891d8235f3"
          }
        },
        "ca0aee99418e4335a40a580802f6a5f6": {
          "model_module": "@jupyter-widgets/controls",
          "model_name": "HTMLModel",
          "state": {
            "_view_name": "HTMLView",
            "style": "IPY_MODEL_55fc9b14bcee4c778b8d06c1a762123a",
            "_dom_classes": [],
            "description": "",
            "_model_name": "HTMLModel",
            "placeholder": "​",
            "_view_module": "@jupyter-widgets/controls",
            "_model_module_version": "1.5.0",
            "value": " 110k/110k [00:00&lt;00:00, 409kB/s]",
            "_view_count": null,
            "_view_module_version": "1.5.0",
            "description_tooltip": null,
            "_model_module": "@jupyter-widgets/controls",
            "layout": "IPY_MODEL_8e0091688c164b80bc918928ced56995"
          }
        },
        "1d94122ffeed4e7da4a5fad9be67a63f": {
          "model_module": "@jupyter-widgets/controls",
          "model_name": "ProgressStyleModel",
          "state": {
            "_view_name": "StyleView",
            "_model_name": "ProgressStyleModel",
            "description_width": "initial",
            "_view_module": "@jupyter-widgets/base",
            "_model_module_version": "1.5.0",
            "_view_count": null,
            "_view_module_version": "1.2.0",
            "bar_color": null,
            "_model_module": "@jupyter-widgets/controls"
          }
        },
        "e85c309f12424395b00d7d891d8235f3": {
          "model_module": "@jupyter-widgets/base",
          "model_name": "LayoutModel",
          "state": {
            "_view_name": "LayoutView",
            "grid_template_rows": null,
            "right": null,
            "justify_content": null,
            "_view_module": "@jupyter-widgets/base",
            "overflow": null,
            "_model_module_version": "1.2.0",
            "_view_count": null,
            "flex_flow": null,
            "width": null,
            "min_width": null,
            "border": null,
            "align_items": null,
            "bottom": null,
            "_model_module": "@jupyter-widgets/base",
            "top": null,
            "grid_column": null,
            "overflow_y": null,
            "overflow_x": null,
            "grid_auto_flow": null,
            "grid_area": null,
            "grid_template_columns": null,
            "flex": null,
            "_model_name": "LayoutModel",
            "justify_items": null,
            "grid_row": null,
            "max_height": null,
            "align_content": null,
            "visibility": null,
            "align_self": null,
            "height": null,
            "min_height": null,
            "padding": null,
            "grid_auto_rows": null,
            "grid_gap": null,
            "max_width": null,
            "order": null,
            "_view_module_version": "1.2.0",
            "grid_template_areas": null,
            "object_position": null,
            "object_fit": null,
            "grid_auto_columns": null,
            "margin": null,
            "display": null,
            "left": null
          }
        },
        "55fc9b14bcee4c778b8d06c1a762123a": {
          "model_module": "@jupyter-widgets/controls",
          "model_name": "DescriptionStyleModel",
          "state": {
            "_view_name": "StyleView",
            "_model_name": "DescriptionStyleModel",
            "description_width": "",
            "_view_module": "@jupyter-widgets/base",
            "_model_module_version": "1.5.0",
            "_view_count": null,
            "_view_module_version": "1.2.0",
            "_model_module": "@jupyter-widgets/controls"
          }
        },
        "8e0091688c164b80bc918928ced56995": {
          "model_module": "@jupyter-widgets/base",
          "model_name": "LayoutModel",
          "state": {
            "_view_name": "LayoutView",
            "grid_template_rows": null,
            "right": null,
            "justify_content": null,
            "_view_module": "@jupyter-widgets/base",
            "overflow": null,
            "_model_module_version": "1.2.0",
            "_view_count": null,
            "flex_flow": null,
            "width": null,
            "min_width": null,
            "border": null,
            "align_items": null,
            "bottom": null,
            "_model_module": "@jupyter-widgets/base",
            "top": null,
            "grid_column": null,
            "overflow_y": null,
            "overflow_x": null,
            "grid_auto_flow": null,
            "grid_area": null,
            "grid_template_columns": null,
            "flex": null,
            "_model_name": "LayoutModel",
            "justify_items": null,
            "grid_row": null,
            "max_height": null,
            "align_content": null,
            "visibility": null,
            "align_self": null,
            "height": null,
            "min_height": null,
            "padding": null,
            "grid_auto_rows": null,
            "grid_gap": null,
            "max_width": null,
            "order": null,
            "_view_module_version": "1.2.0",
            "grid_template_areas": null,
            "object_position": null,
            "object_fit": null,
            "grid_auto_columns": null,
            "margin": null,
            "display": null,
            "left": null
          }
        },
        "a6aefc6a56f64d80a2207711d6f6e43a": {
          "model_module": "@jupyter-widgets/controls",
          "model_name": "HBoxModel",
          "state": {
            "_view_name": "HBoxView",
            "_dom_classes": [],
            "_model_name": "HBoxModel",
            "_view_module": "@jupyter-widgets/controls",
            "_model_module_version": "1.5.0",
            "_view_count": null,
            "_view_module_version": "1.5.0",
            "box_style": "",
            "layout": "IPY_MODEL_2fc07bb08f7d42e19d251bc151df5fb4",
            "_model_module": "@jupyter-widgets/controls",
            "children": [
              "IPY_MODEL_30af0b8d73074f66a6f1e6cf126a69a3",
              "IPY_MODEL_99bb892ad7da4b758731b73af299ee75"
            ]
          }
        },
        "2fc07bb08f7d42e19d251bc151df5fb4": {
          "model_module": "@jupyter-widgets/base",
          "model_name": "LayoutModel",
          "state": {
            "_view_name": "LayoutView",
            "grid_template_rows": null,
            "right": null,
            "justify_content": null,
            "_view_module": "@jupyter-widgets/base",
            "overflow": null,
            "_model_module_version": "1.2.0",
            "_view_count": null,
            "flex_flow": null,
            "width": null,
            "min_width": null,
            "border": null,
            "align_items": null,
            "bottom": null,
            "_model_module": "@jupyter-widgets/base",
            "top": null,
            "grid_column": null,
            "overflow_y": null,
            "overflow_x": null,
            "grid_auto_flow": null,
            "grid_area": null,
            "grid_template_columns": null,
            "flex": null,
            "_model_name": "LayoutModel",
            "justify_items": null,
            "grid_row": null,
            "max_height": null,
            "align_content": null,
            "visibility": null,
            "align_self": null,
            "height": null,
            "min_height": null,
            "padding": null,
            "grid_auto_rows": null,
            "grid_gap": null,
            "max_width": null,
            "order": null,
            "_view_module_version": "1.2.0",
            "grid_template_areas": null,
            "object_position": null,
            "object_fit": null,
            "grid_auto_columns": null,
            "margin": null,
            "display": null,
            "left": null
          }
        },
        "30af0b8d73074f66a6f1e6cf126a69a3": {
          "model_module": "@jupyter-widgets/controls",
          "model_name": "FloatProgressModel",
          "state": {
            "_view_name": "ProgressView",
            "style": "IPY_MODEL_6971b6843d1340628c58e9b9361cf374",
            "_dom_classes": [],
            "description": "Downloading: 100%",
            "_model_name": "FloatProgressModel",
            "bar_style": "success",
            "max": 411577189,
            "_view_module": "@jupyter-widgets/controls",
            "_model_module_version": "1.5.0",
            "value": 411577189,
            "_view_count": null,
            "_view_module_version": "1.5.0",
            "orientation": "horizontal",
            "min": 0,
            "description_tooltip": null,
            "_model_module": "@jupyter-widgets/controls",
            "layout": "IPY_MODEL_06f737d148824f2a9250f13b56407d5d"
          }
        },
        "99bb892ad7da4b758731b73af299ee75": {
          "model_module": "@jupyter-widgets/controls",
          "model_name": "HTMLModel",
          "state": {
            "_view_name": "HTMLView",
            "style": "IPY_MODEL_56624dc3013b405e962d992de793527c",
            "_dom_classes": [],
            "description": "",
            "_model_name": "HTMLModel",
            "placeholder": "​",
            "_view_module": "@jupyter-widgets/controls",
            "_model_module_version": "1.5.0",
            "value": " 412M/412M [00:09&lt;00:00, 42.6MB/s]",
            "_view_count": null,
            "_view_module_version": "1.5.0",
            "description_tooltip": null,
            "_model_module": "@jupyter-widgets/controls",
            "layout": "IPY_MODEL_a52d0e4e5db24c67a5dcf59297aab442"
          }
        },
        "6971b6843d1340628c58e9b9361cf374": {
          "model_module": "@jupyter-widgets/controls",
          "model_name": "ProgressStyleModel",
          "state": {
            "_view_name": "StyleView",
            "_model_name": "ProgressStyleModel",
            "description_width": "initial",
            "_view_module": "@jupyter-widgets/base",
            "_model_module_version": "1.5.0",
            "_view_count": null,
            "_view_module_version": "1.2.0",
            "bar_color": null,
            "_model_module": "@jupyter-widgets/controls"
          }
        },
        "06f737d148824f2a9250f13b56407d5d": {
          "model_module": "@jupyter-widgets/base",
          "model_name": "LayoutModel",
          "state": {
            "_view_name": "LayoutView",
            "grid_template_rows": null,
            "right": null,
            "justify_content": null,
            "_view_module": "@jupyter-widgets/base",
            "overflow": null,
            "_model_module_version": "1.2.0",
            "_view_count": null,
            "flex_flow": null,
            "width": null,
            "min_width": null,
            "border": null,
            "align_items": null,
            "bottom": null,
            "_model_module": "@jupyter-widgets/base",
            "top": null,
            "grid_column": null,
            "overflow_y": null,
            "overflow_x": null,
            "grid_auto_flow": null,
            "grid_area": null,
            "grid_template_columns": null,
            "flex": null,
            "_model_name": "LayoutModel",
            "justify_items": null,
            "grid_row": null,
            "max_height": null,
            "align_content": null,
            "visibility": null,
            "align_self": null,
            "height": null,
            "min_height": null,
            "padding": null,
            "grid_auto_rows": null,
            "grid_gap": null,
            "max_width": null,
            "order": null,
            "_view_module_version": "1.2.0",
            "grid_template_areas": null,
            "object_position": null,
            "object_fit": null,
            "grid_auto_columns": null,
            "margin": null,
            "display": null,
            "left": null
          }
        },
        "56624dc3013b405e962d992de793527c": {
          "model_module": "@jupyter-widgets/controls",
          "model_name": "DescriptionStyleModel",
          "state": {
            "_view_name": "StyleView",
            "_model_name": "DescriptionStyleModel",
            "description_width": "",
            "_view_module": "@jupyter-widgets/base",
            "_model_module_version": "1.5.0",
            "_view_count": null,
            "_view_module_version": "1.2.0",
            "_model_module": "@jupyter-widgets/controls"
          }
        },
        "a52d0e4e5db24c67a5dcf59297aab442": {
          "model_module": "@jupyter-widgets/base",
          "model_name": "LayoutModel",
          "state": {
            "_view_name": "LayoutView",
            "grid_template_rows": null,
            "right": null,
            "justify_content": null,
            "_view_module": "@jupyter-widgets/base",
            "overflow": null,
            "_model_module_version": "1.2.0",
            "_view_count": null,
            "flex_flow": null,
            "width": null,
            "min_width": null,
            "border": null,
            "align_items": null,
            "bottom": null,
            "_model_module": "@jupyter-widgets/base",
            "top": null,
            "grid_column": null,
            "overflow_y": null,
            "overflow_x": null,
            "grid_auto_flow": null,
            "grid_area": null,
            "grid_template_columns": null,
            "flex": null,
            "_model_name": "LayoutModel",
            "justify_items": null,
            "grid_row": null,
            "max_height": null,
            "align_content": null,
            "visibility": null,
            "align_self": null,
            "height": null,
            "min_height": null,
            "padding": null,
            "grid_auto_rows": null,
            "grid_gap": null,
            "max_width": null,
            "order": null,
            "_view_module_version": "1.2.0",
            "grid_template_areas": null,
            "object_position": null,
            "object_fit": null,
            "grid_auto_columns": null,
            "margin": null,
            "display": null,
            "left": null
          }
        }
      }
    }
  },
  "cells": [
    {
      "cell_type": "markdown",
      "metadata": {
        "id": "view-in-github",
        "colab_type": "text"
      },
      "source": [
        "<a href=\"https://colab.research.google.com/github/ChengHanChiu/imtku_for_dial_eval_1/blob/master/dialog_quality_classification_blurr_fastai2_huggingface.ipynb\" target=\"_parent\"><img src=\"https://colab.research.google.com/assets/colab-badge.svg\" alt=\"Open In Colab\"/></a>"
      ]
    },
    {
      "cell_type": "code",
      "metadata": {
        "id": "pYDCVB6UatVS",
        "colab": {
          "base_uri": "https://localhost:8080/",
          "height": 34
        },
        "outputId": "689888ce-006c-4e8e-d8ee-33a33603fa71"
      },
      "source": [
        "!nvidia-smi -L"
      ],
      "execution_count": null,
      "outputs": [
        {
          "output_type": "stream",
          "text": [
            "GPU 0: Tesla T4 (UUID: GPU-7335d719-0622-e0af-d623-ae3980de97d5)\n"
          ],
          "name": "stdout"
        }
      ]
    },
    {
      "cell_type": "code",
      "metadata": {
        "id": "IITX5PDfU1U1",
        "colab": {
          "base_uri": "https://localhost:8080/",
          "height": 1000
        },
        "outputId": "30ff70fd-7d35-4207-a15c-71b9ef660327"
      },
      "source": [
        "!pip3 install -U datascience albumentations pyarrow==0.17.1 transformers==3.0.2 fastai2==0.0.20 ohmeow-blurr==0.0.7"
      ],
      "execution_count": null,
      "outputs": [
        {
          "output_type": "stream",
          "text": [
            "Requirement already up-to-date: datascience in /usr/local/lib/python3.6/dist-packages (0.15.6)\n",
            "Requirement already up-to-date: albumentations in /usr/local/lib/python3.6/dist-packages (0.4.6)\n",
            "Requirement already up-to-date: pyarrow==0.17.1 in /usr/local/lib/python3.6/dist-packages (0.17.1)\n",
            "Requirement already up-to-date: transformers==3.0.2 in /usr/local/lib/python3.6/dist-packages (3.0.2)\n",
            "Requirement already up-to-date: fastai2==0.0.20 in /usr/local/lib/python3.6/dist-packages (0.0.20)\n",
            "Requirement already up-to-date: ohmeow-blurr==0.0.7 in /usr/local/lib/python3.6/dist-packages (0.0.7)\n",
            "Requirement already satisfied, skipping upgrade: coveralls in /usr/local/lib/python3.6/dist-packages (from datascience) (0.5)\n",
            "Requirement already satisfied, skipping upgrade: folium>=0.9.1 in /usr/local/lib/python3.6/dist-packages (from datascience) (0.11.0)\n",
            "Requirement already satisfied, skipping upgrade: numpy in /usr/local/lib/python3.6/dist-packages (from datascience) (1.18.5)\n",
            "Requirement already satisfied, skipping upgrade: setuptools in /usr/local/lib/python3.6/dist-packages (from datascience) (49.1.0)\n",
            "Requirement already satisfied, skipping upgrade: scipy in /usr/local/lib/python3.6/dist-packages (from datascience) (1.4.1)\n",
            "Requirement already satisfied, skipping upgrade: matplotlib>=3.0.0 in /usr/local/lib/python3.6/dist-packages (from datascience) (3.2.2)\n",
            "Requirement already satisfied, skipping upgrade: pandas in /usr/local/lib/python3.6/dist-packages (from datascience) (1.0.5)\n",
            "Requirement already satisfied, skipping upgrade: sphinx in /usr/local/lib/python3.6/dist-packages (from datascience) (1.8.5)\n",
            "Requirement already satisfied, skipping upgrade: pytest in /usr/local/lib/python3.6/dist-packages (from datascience) (3.6.4)\n",
            "Requirement already satisfied, skipping upgrade: coverage in /usr/local/lib/python3.6/dist-packages (from datascience) (3.7.1)\n",
            "Requirement already satisfied, skipping upgrade: ipython in /usr/local/lib/python3.6/dist-packages (from datascience) (5.5.0)\n",
            "Requirement already satisfied, skipping upgrade: bokeh in /usr/local/lib/python3.6/dist-packages (from datascience) (2.1.1)\n",
            "Requirement already satisfied, skipping upgrade: opencv-python>=4.1.1 in /usr/local/lib/python3.6/dist-packages (from albumentations) (4.1.2.30)\n",
            "Requirement already satisfied, skipping upgrade: PyYAML in /usr/local/lib/python3.6/dist-packages (from albumentations) (3.13)\n",
            "Requirement already satisfied, skipping upgrade: imgaug>=0.4.0 in /usr/local/lib/python3.6/dist-packages (from albumentations) (0.4.0)\n",
            "Requirement already satisfied, skipping upgrade: tokenizers==0.8.1.rc1 in /usr/local/lib/python3.6/dist-packages (from transformers==3.0.2) (0.8.1rc1)\n",
            "Requirement already satisfied, skipping upgrade: filelock in /usr/local/lib/python3.6/dist-packages (from transformers==3.0.2) (3.0.12)\n",
            "Requirement already satisfied, skipping upgrade: sacremoses in /usr/local/lib/python3.6/dist-packages (from transformers==3.0.2) (0.0.43)\n",
            "Requirement already satisfied, skipping upgrade: tqdm>=4.27 in /usr/local/lib/python3.6/dist-packages (from transformers==3.0.2) (4.41.1)\n",
            "Requirement already satisfied, skipping upgrade: sentencepiece!=0.1.92 in /usr/local/lib/python3.6/dist-packages (from transformers==3.0.2) (0.1.91)\n",
            "Requirement already satisfied, skipping upgrade: packaging in /usr/local/lib/python3.6/dist-packages (from transformers==3.0.2) (20.4)\n",
            "Requirement already satisfied, skipping upgrade: requests in /usr/local/lib/python3.6/dist-packages (from transformers==3.0.2) (2.23.0)\n",
            "Requirement already satisfied, skipping upgrade: regex!=2019.12.17 in /usr/local/lib/python3.6/dist-packages (from transformers==3.0.2) (2019.12.20)\n",
            "Requirement already satisfied, skipping upgrade: dataclasses; python_version < \"3.7\" in /usr/local/lib/python3.6/dist-packages (from transformers==3.0.2) (0.7)\n",
            "Requirement already satisfied, skipping upgrade: torchvision>=0.5 in /usr/local/lib/python3.6/dist-packages (from fastai2==0.0.20) (0.6.1+cu101)\n",
            "Requirement already satisfied, skipping upgrade: torch>=1.3.0 in /usr/local/lib/python3.6/dist-packages (from fastai2==0.0.20) (1.5.1+cu101)\n",
            "Requirement already satisfied, skipping upgrade: scikit-learn in /usr/local/lib/python3.6/dist-packages (from fastai2==0.0.20) (0.22.2.post1)\n",
            "Requirement already satisfied, skipping upgrade: fastprogress>=0.2.4 in /usr/local/lib/python3.6/dist-packages (from fastai2==0.0.20) (0.2.4)\n",
            "Requirement already satisfied, skipping upgrade: pillow in /usr/local/lib/python3.6/dist-packages (from fastai2==0.0.20) (7.0.0)\n",
            "Requirement already satisfied, skipping upgrade: spacy in /usr/local/lib/python3.6/dist-packages (from fastai2==0.0.20) (2.2.4)\n",
            "Requirement already satisfied, skipping upgrade: fastcore>=0.1.20 in /usr/local/lib/python3.6/dist-packages (from fastai2==0.0.20) (0.1.21)\n",
            "Requirement already satisfied, skipping upgrade: ipykernel in /usr/local/lib/python3.6/dist-packages (from ohmeow-blurr==0.0.7) (4.10.1)\n",
            "Requirement already satisfied, skipping upgrade: rouge-score in /usr/local/lib/python3.6/dist-packages (from ohmeow-blurr==0.0.7) (0.0.4)\n",
            "Requirement already satisfied, skipping upgrade: seqeval in /usr/local/lib/python3.6/dist-packages (from ohmeow-blurr==0.0.7) (0.0.12)\n",
            "Requirement already satisfied, skipping upgrade: nlp in /usr/local/lib/python3.6/dist-packages (from ohmeow-blurr==0.0.7) (0.3.0)\n",
            "Requirement already satisfied, skipping upgrade: docopt>=0.6.1 in /usr/local/lib/python3.6/dist-packages (from coveralls->datascience) (0.6.2)\n",
            "Requirement already satisfied, skipping upgrade: branca>=0.3.0 in /usr/local/lib/python3.6/dist-packages (from folium>=0.9.1->datascience) (0.4.1)\n",
            "Requirement already satisfied, skipping upgrade: jinja2>=2.9 in /usr/local/lib/python3.6/dist-packages (from folium>=0.9.1->datascience) (2.11.2)\n",
            "Requirement already satisfied, skipping upgrade: python-dateutil>=2.1 in /usr/local/lib/python3.6/dist-packages (from matplotlib>=3.0.0->datascience) (2.8.1)\n",
            "Requirement already satisfied, skipping upgrade: kiwisolver>=1.0.1 in /usr/local/lib/python3.6/dist-packages (from matplotlib>=3.0.0->datascience) (1.2.0)\n",
            "Requirement already satisfied, skipping upgrade: pyparsing!=2.0.4,!=2.1.2,!=2.1.6,>=2.0.1 in /usr/local/lib/python3.6/dist-packages (from matplotlib>=3.0.0->datascience) (2.4.7)\n",
            "Requirement already satisfied, skipping upgrade: cycler>=0.10 in /usr/local/lib/python3.6/dist-packages (from matplotlib>=3.0.0->datascience) (0.10.0)\n",
            "Requirement already satisfied, skipping upgrade: pytz>=2017.2 in /usr/local/lib/python3.6/dist-packages (from pandas->datascience) (2018.9)\n",
            "Requirement already satisfied, skipping upgrade: alabaster<0.8,>=0.7 in /usr/local/lib/python3.6/dist-packages (from sphinx->datascience) (0.7.12)\n",
            "Requirement already satisfied, skipping upgrade: sphinxcontrib-websupport in /usr/local/lib/python3.6/dist-packages (from sphinx->datascience) (1.2.3)\n",
            "Requirement already satisfied, skipping upgrade: snowballstemmer>=1.1 in /usr/local/lib/python3.6/dist-packages (from sphinx->datascience) (2.0.0)\n",
            "Requirement already satisfied, skipping upgrade: Pygments>=2.0 in /usr/local/lib/python3.6/dist-packages (from sphinx->datascience) (2.1.3)\n",
            "Requirement already satisfied, skipping upgrade: babel!=2.0,>=1.3 in /usr/local/lib/python3.6/dist-packages (from sphinx->datascience) (2.8.0)\n",
            "Requirement already satisfied, skipping upgrade: six>=1.5 in /usr/local/lib/python3.6/dist-packages (from sphinx->datascience) (1.15.0)\n",
            "Requirement already satisfied, skipping upgrade: imagesize in /usr/local/lib/python3.6/dist-packages (from sphinx->datascience) (1.2.0)\n",
            "Requirement already satisfied, skipping upgrade: docutils>=0.11 in /usr/local/lib/python3.6/dist-packages (from sphinx->datascience) (0.15.2)\n",
            "Requirement already satisfied, skipping upgrade: attrs>=17.4.0 in /usr/local/lib/python3.6/dist-packages (from pytest->datascience) (19.3.0)\n",
            "Requirement already satisfied, skipping upgrade: pluggy<0.8,>=0.5 in /usr/local/lib/python3.6/dist-packages (from pytest->datascience) (0.7.1)\n",
            "Requirement already satisfied, skipping upgrade: atomicwrites>=1.0 in /usr/local/lib/python3.6/dist-packages (from pytest->datascience) (1.4.0)\n",
            "Requirement already satisfied, skipping upgrade: more-itertools>=4.0.0 in /usr/local/lib/python3.6/dist-packages (from pytest->datascience) (8.4.0)\n",
            "Requirement already satisfied, skipping upgrade: py>=1.5.0 in /usr/local/lib/python3.6/dist-packages (from pytest->datascience) (1.9.0)\n",
            "Requirement already satisfied, skipping upgrade: traitlets>=4.2 in /usr/local/lib/python3.6/dist-packages (from ipython->datascience) (4.3.3)\n",
            "Requirement already satisfied, skipping upgrade: decorator in /usr/local/lib/python3.6/dist-packages (from ipython->datascience) (4.4.2)\n",
            "Requirement already satisfied, skipping upgrade: simplegeneric>0.8 in /usr/local/lib/python3.6/dist-packages (from ipython->datascience) (0.8.1)\n",
            "Requirement already satisfied, skipping upgrade: pickleshare in /usr/local/lib/python3.6/dist-packages (from ipython->datascience) (0.7.5)\n",
            "Requirement already satisfied, skipping upgrade: pexpect; sys_platform != \"win32\" in /usr/local/lib/python3.6/dist-packages (from ipython->datascience) (4.8.0)\n",
            "Requirement already satisfied, skipping upgrade: prompt-toolkit<2.0.0,>=1.0.4 in /usr/local/lib/python3.6/dist-packages (from ipython->datascience) (1.0.18)\n",
            "Requirement already satisfied, skipping upgrade: typing-extensions>=3.7.4 in /usr/local/lib/python3.6/dist-packages (from bokeh->datascience) (3.7.4.2)\n",
            "Requirement already satisfied, skipping upgrade: tornado>=5.1 in /usr/local/lib/python3.6/dist-packages (from bokeh->datascience) (5.1.1)\n",
            "Requirement already satisfied, skipping upgrade: Shapely in /usr/local/lib/python3.6/dist-packages (from imgaug>=0.4.0->albumentations) (1.7.0)\n",
            "Requirement already satisfied, skipping upgrade: imageio in /usr/local/lib/python3.6/dist-packages (from imgaug>=0.4.0->albumentations) (2.4.1)\n",
            "Requirement already satisfied, skipping upgrade: scikit-image>=0.14.2 in /usr/local/lib/python3.6/dist-packages (from imgaug>=0.4.0->albumentations) (0.16.2)\n",
            "Requirement already satisfied, skipping upgrade: joblib in /usr/local/lib/python3.6/dist-packages (from sacremoses->transformers==3.0.2) (0.16.0)\n",
            "Requirement already satisfied, skipping upgrade: click in /usr/local/lib/python3.6/dist-packages (from sacremoses->transformers==3.0.2) (7.1.2)\n",
            "Requirement already satisfied, skipping upgrade: urllib3!=1.25.0,!=1.25.1,<1.26,>=1.21.1 in /usr/local/lib/python3.6/dist-packages (from requests->transformers==3.0.2) (1.24.3)\n",
            "Requirement already satisfied, skipping upgrade: chardet<4,>=3.0.2 in /usr/local/lib/python3.6/dist-packages (from requests->transformers==3.0.2) (3.0.4)\n",
            "Requirement already satisfied, skipping upgrade: certifi>=2017.4.17 in /usr/local/lib/python3.6/dist-packages (from requests->transformers==3.0.2) (2020.6.20)\n",
            "Requirement already satisfied, skipping upgrade: idna<3,>=2.5 in /usr/local/lib/python3.6/dist-packages (from requests->transformers==3.0.2) (2.10)\n",
            "Requirement already satisfied, skipping upgrade: future in /usr/local/lib/python3.6/dist-packages (from torch>=1.3.0->fastai2==0.0.20) (0.16.0)\n",
            "Requirement already satisfied, skipping upgrade: cymem<2.1.0,>=2.0.2 in /usr/local/lib/python3.6/dist-packages (from spacy->fastai2==0.0.20) (2.0.3)\n",
            "Requirement already satisfied, skipping upgrade: murmurhash<1.1.0,>=0.28.0 in /usr/local/lib/python3.6/dist-packages (from spacy->fastai2==0.0.20) (1.0.2)\n",
            "Requirement already satisfied, skipping upgrade: blis<0.5.0,>=0.4.0 in /usr/local/lib/python3.6/dist-packages (from spacy->fastai2==0.0.20) (0.4.1)\n",
            "Requirement already satisfied, skipping upgrade: preshed<3.1.0,>=3.0.2 in /usr/local/lib/python3.6/dist-packages (from spacy->fastai2==0.0.20) (3.0.2)\n",
            "Requirement already satisfied, skipping upgrade: thinc==7.4.0 in /usr/local/lib/python3.6/dist-packages (from spacy->fastai2==0.0.20) (7.4.0)\n",
            "Requirement already satisfied, skipping upgrade: plac<1.2.0,>=0.9.6 in /usr/local/lib/python3.6/dist-packages (from spacy->fastai2==0.0.20) (1.1.3)\n",
            "Requirement already satisfied, skipping upgrade: wasabi<1.1.0,>=0.4.0 in /usr/local/lib/python3.6/dist-packages (from spacy->fastai2==0.0.20) (0.7.1)\n",
            "Requirement already satisfied, skipping upgrade: catalogue<1.1.0,>=0.0.7 in /usr/local/lib/python3.6/dist-packages (from spacy->fastai2==0.0.20) (1.0.0)\n",
            "Requirement already satisfied, skipping upgrade: srsly<1.1.0,>=1.0.2 in /usr/local/lib/python3.6/dist-packages (from spacy->fastai2==0.0.20) (1.0.2)\n",
            "Requirement already satisfied, skipping upgrade: jupyter-client in /usr/local/lib/python3.6/dist-packages (from ipykernel->ohmeow-blurr==0.0.7) (5.3.5)\n",
            "Requirement already satisfied, skipping upgrade: nltk in /usr/local/lib/python3.6/dist-packages (from rouge-score->ohmeow-blurr==0.0.7) (3.2.5)\n",
            "Requirement already satisfied, skipping upgrade: absl-py in /usr/local/lib/python3.6/dist-packages (from rouge-score->ohmeow-blurr==0.0.7) (0.9.0)\n",
            "Requirement already satisfied, skipping upgrade: Keras>=2.2.4 in /usr/local/lib/python3.6/dist-packages (from seqeval->ohmeow-blurr==0.0.7) (2.3.1)\n",
            "Requirement already satisfied, skipping upgrade: dill in /usr/local/lib/python3.6/dist-packages (from nlp->ohmeow-blurr==0.0.7) (0.3.2)\n",
            "Requirement already satisfied, skipping upgrade: MarkupSafe>=0.23 in /usr/local/lib/python3.6/dist-packages (from jinja2>=2.9->folium>=0.9.1->datascience) (1.1.1)\n",
            "Requirement already satisfied, skipping upgrade: ipython-genutils in /usr/local/lib/python3.6/dist-packages (from traitlets>=4.2->ipython->datascience) (0.2.0)\n",
            "Requirement already satisfied, skipping upgrade: ptyprocess>=0.5 in /usr/local/lib/python3.6/dist-packages (from pexpect; sys_platform != \"win32\"->ipython->datascience) (0.6.0)\n",
            "Requirement already satisfied, skipping upgrade: wcwidth in /usr/local/lib/python3.6/dist-packages (from prompt-toolkit<2.0.0,>=1.0.4->ipython->datascience) (0.2.5)\n",
            "Requirement already satisfied, skipping upgrade: networkx>=2.0 in /usr/local/lib/python3.6/dist-packages (from scikit-image>=0.14.2->imgaug>=0.4.0->albumentations) (2.4)\n",
            "Requirement already satisfied, skipping upgrade: PyWavelets>=0.4.0 in /usr/local/lib/python3.6/dist-packages (from scikit-image>=0.14.2->imgaug>=0.4.0->albumentations) (1.1.1)\n",
            "Requirement already satisfied, skipping upgrade: importlib-metadata>=0.20; python_version < \"3.8\" in /usr/local/lib/python3.6/dist-packages (from catalogue<1.1.0,>=0.0.7->spacy->fastai2==0.0.20) (1.7.0)\n",
            "Requirement already satisfied, skipping upgrade: pyzmq>=13 in /usr/local/lib/python3.6/dist-packages (from jupyter-client->ipykernel->ohmeow-blurr==0.0.7) (19.0.1)\n",
            "Requirement already satisfied, skipping upgrade: jupyter-core>=4.6.0 in /usr/local/lib/python3.6/dist-packages (from jupyter-client->ipykernel->ohmeow-blurr==0.0.7) (4.6.3)\n",
            "Requirement already satisfied, skipping upgrade: keras-applications>=1.0.6 in /usr/local/lib/python3.6/dist-packages (from Keras>=2.2.4->seqeval->ohmeow-blurr==0.0.7) (1.0.8)\n",
            "Requirement already satisfied, skipping upgrade: h5py in /usr/local/lib/python3.6/dist-packages (from Keras>=2.2.4->seqeval->ohmeow-blurr==0.0.7) (2.10.0)\n",
            "Requirement already satisfied, skipping upgrade: keras-preprocessing>=1.0.5 in /usr/local/lib/python3.6/dist-packages (from Keras>=2.2.4->seqeval->ohmeow-blurr==0.0.7) (1.1.2)\n",
            "Requirement already satisfied, skipping upgrade: zipp>=0.5 in /usr/local/lib/python3.6/dist-packages (from importlib-metadata>=0.20; python_version < \"3.8\"->catalogue<1.1.0,>=0.0.7->spacy->fastai2==0.0.20) (3.1.0)\n"
          ],
          "name": "stdout"
        }
      ]
    },
    {
      "cell_type": "code",
      "metadata": {
        "id": "xUjhsC04VS1M",
        "colab": {
          "base_uri": "https://localhost:8080/",
          "height": 34
        },
        "outputId": "15ce57e3-f4f4-4d31-8bdb-54668d1253a9"
      },
      "source": [
        "!pip3 check"
      ],
      "execution_count": null,
      "outputs": [
        {
          "output_type": "stream",
          "text": [
            "No broken requirements found.\n"
          ],
          "name": "stdout"
        }
      ]
    },
    {
      "cell_type": "code",
      "metadata": {
        "id": "WKOvQ-eZDTDU"
      },
      "source": [
        "%load_ext autoreload\n",
        "%autoreload 2"
      ],
      "execution_count": null,
      "outputs": []
    },
    {
      "cell_type": "code",
      "metadata": {
        "id": "-cu46_sqL0o3"
      },
      "source": [
        "import json\n",
        "from pathlib import Path\n",
        "\n",
        "import pandas as pd"
      ],
      "execution_count": null,
      "outputs": []
    },
    {
      "cell_type": "code",
      "metadata": {
        "id": "XwScV_-1M5Ux",
        "colab": {
          "base_uri": "https://localhost:8080/",
          "height": 34
        },
        "outputId": "253a5548-a4c1-4c42-fda6-41c6f64552d7"
      },
      "source": [
        "from google.colab import drive\n",
        "drive.mount('/content/drive', force_remount=True)"
      ],
      "execution_count": null,
      "outputs": [
        {
          "output_type": "stream",
          "text": [
            "Mounted at /content/drive\n"
          ],
          "name": "stdout"
        }
      ]
    },
    {
      "cell_type": "code",
      "metadata": {
        "id": "9ha87hcsNL27"
      },
      "source": [
        "DATA_DIR = Path('/content/drive/My Drive/NTCIR/ntcir15-master/LSTM-baseline-master/')\n",
        "DATA_DIR.mkdir(parents=True, exist_ok=True)"
      ],
      "execution_count": null,
      "outputs": []
    },
    {
      "cell_type": "code",
      "metadata": {
        "id": "EluT8ow3WxWz"
      },
      "source": [
        "RNK2LBL = {2: 'A', 1: 'B', 0: 'C', -1: 'D', -2: 'E'}\n",
        "LBL2RNK = {v: str(k) for k, v in RNK2LBL.items()}\n",
        "\n",
        "\n",
        "def map_blank(txt):\n",
        "    return ' xxblk ' if not txt else txt\n",
        "\n",
        "\n",
        "def flatten_json_by_dialog(json_data, is_test=False):\n",
        "    flattened_by_dlg = []\n",
        "    for row in json_data:\n",
        "        trns = row['turns']\n",
        "        dlg_len = len(trns)\n",
        "        dlg_txt = f'xxlen {dlg_len} <s> ' + ' </s> </s> '.join(\n",
        "            (f'xxtrn {i+1} xxsdr {trn[\"sender\"]} ' +\n",
        "             ' '.join(map(map_blank, trn['utterances'])))\n",
        "            for i, trn in enumerate(trns)\n",
        "        ) + ' </s>'\n",
        "\n",
        "        rcds = None\n",
        "        if is_test:\n",
        "            rcds = [{\n",
        "                'id': row['id'],\n",
        "                'label_a_e_s': None,\n",
        "                'text': dlg_txt\n",
        "            }]\n",
        "        else:\n",
        "            rcds = [\n",
        "                {\n",
        "                    'id': row['id'],\n",
        "                    'label_a_e_s': ';'.join((\n",
        "                        'a' + RNK2LBL[a['quality']['A']],\n",
        "                        'e' + RNK2LBL[a['quality']['E']],\n",
        "                        's' + RNK2LBL[a['quality']['S']],\n",
        "                    )),\n",
        "                    'text': dlg_txt\n",
        "                } for a in row['annotations']\n",
        "            ]\n",
        "        flattened_by_dlg.extend(rcds)\n",
        "\n",
        "    return flattened_by_dlg"
      ],
      "execution_count": null,
      "outputs": []
    },
    {
      "cell_type": "code",
      "metadata": {
        "id": "w6GpmY98L0pG"
      },
      "source": [
        "DS_NAMES = ('train', 'dev', 'test')\n",
        "DS_LANGS = ('en', 'cn')"
      ],
      "execution_count": null,
      "outputs": []
    },
    {
      "cell_type": "code",
      "metadata": {
        "id": "ZpMOo_wrVtg6"
      },
      "source": [
        "for ds_name in DS_NAMES:\n",
        "    for ds_lang in DS_LANGS:\n",
        "        input_p = DATA_DIR / f'dataset/{ds_name}_{ds_lang}.json'\n",
        "        output_p = DATA_DIR / f'{ds_name}_dq-{ds_lang}.csv'\n",
        "        is_test = ds_name == 'test'\n",
        "\n",
        "        json_f = open(input_p)\n",
        "        json_d = json.load(json_f)\n",
        "        json_f.close()\n",
        "        df_by_dlg = pd.DataFrame(flatten_json_by_dialog(json_d, is_test))\n",
        "        df_by_dlg.to_csv(\n",
        "            output_p,\n",
        "            columns=df_by_dlg.reindex(['label_a_e_s','text', 'id'])\n",
        "        )"
      ],
      "execution_count": null,
      "outputs": []
    },
    {
      "cell_type": "code",
      "metadata": {
        "id": "Kj7ado75L0pb"
      },
      "source": [
        "import torch\n",
        "from transformers import *\n",
        "from fastai2.text.all import *\n",
        "\n",
        "from blurr.data.all import *\n",
        "from blurr.modeling.all import *"
      ],
      "execution_count": null,
      "outputs": []
    },
    {
      "cell_type": "code",
      "metadata": {
        "tags": [],
        "id": "m27bz2x8L0pe",
        "colab": {
          "base_uri": "https://localhost:8080/",
          "height": 269,
          "referenced_widgets": [
            "c1bc6db408564b7e842163bf311ced1d",
            "3358dc7eaddb4871bf4431e1ca1b503b",
            "c944dd62e96546d99575148c81ead8d6",
            "34410bb920224b0c908d8e366a519aa9",
            "b54ec0feee90409d82631c05ea41b20a",
            "576b88de2afd49538c65eb76d45c0753",
            "6d3f03c171ed4bf9bab4a3e575c8084d",
            "5e0b209e34744d5d9e9c713987bfc64e",
            "af54b62bbb854b88b3eb211f3295df69",
            "2e473efe4f6f47339469799ed3542117",
            "2cef6afef1064da9b3fd3427bc486312",
            "ca0aee99418e4335a40a580802f6a5f6",
            "1d94122ffeed4e7da4a5fad9be67a63f",
            "e85c309f12424395b00d7d891d8235f3",
            "55fc9b14bcee4c778b8d06c1a762123a",
            "8e0091688c164b80bc918928ced56995",
            "a6aefc6a56f64d80a2207711d6f6e43a",
            "2fc07bb08f7d42e19d251bc151df5fb4",
            "30af0b8d73074f66a6f1e6cf126a69a3",
            "99bb892ad7da4b758731b73af299ee75",
            "6971b6843d1340628c58e9b9361cf374",
            "06f737d148824f2a9250f13b56407d5d",
            "56624dc3013b405e962d992de793527c",
            "a52d0e4e5db24c67a5dcf59297aab442"
          ]
        },
        "outputId": "72895bdf-68d2-42ed-b6b3-c8d11d735e1d"
      },
      "source": [
        "task = HF_TASKS_AUTO.SequenceClassification\n",
        "pretrained_model_name = 'bert-base-chinese'\n",
        "(\n",
        "    hf_arch,\n",
        "    hf_config,\n",
        "    hf_tokenizer,\n",
        "    hf_model\n",
        ") = BLURR_MODEL_HELPER.get_hf_objects(\n",
        "    pretrained_model_name,\n",
        "    task=task,\n",
        "    config_kwargs={'num_labels': 15}\n",
        ")"
      ],
      "execution_count": null,
      "outputs": [
        {
          "output_type": "display_data",
          "data": {
            "application/vnd.jupyter.widget-view+json": {
              "model_id": "c1bc6db408564b7e842163bf311ced1d",
              "version_minor": 0,
              "version_major": 2
            },
            "text/plain": [
              "HBox(children=(FloatProgress(value=0.0, description='Downloading', max=624.0, style=ProgressStyle(description_…"
            ]
          },
          "metadata": {
            "tags": []
          }
        },
        {
          "output_type": "stream",
          "text": [
            "\n"
          ],
          "name": "stdout"
        },
        {
          "output_type": "display_data",
          "data": {
            "application/vnd.jupyter.widget-view+json": {
              "model_id": "af54b62bbb854b88b3eb211f3295df69",
              "version_minor": 0,
              "version_major": 2
            },
            "text/plain": [
              "HBox(children=(FloatProgress(value=0.0, description='Downloading', max=109540.0, style=ProgressStyle(descripti…"
            ]
          },
          "metadata": {
            "tags": []
          }
        },
        {
          "output_type": "stream",
          "text": [
            "\n"
          ],
          "name": "stdout"
        },
        {
          "output_type": "display_data",
          "data": {
            "application/vnd.jupyter.widget-view+json": {
              "model_id": "a6aefc6a56f64d80a2207711d6f6e43a",
              "version_minor": 0,
              "version_major": 2
            },
            "text/plain": [
              "HBox(children=(FloatProgress(value=0.0, description='Downloading', max=411577189.0, style=ProgressStyle(descri…"
            ]
          },
          "metadata": {
            "tags": []
          }
        },
        {
          "output_type": "stream",
          "text": [
            "\n"
          ],
          "name": "stdout"
        },
        {
          "output_type": "stream",
          "text": [
            "Some weights of the model checkpoint at bert-base-chinese were not used when initializing BertForSequenceClassification: ['cls.predictions.bias', 'cls.predictions.transform.dense.weight', 'cls.predictions.transform.dense.bias', 'cls.predictions.decoder.weight', 'cls.seq_relationship.weight', 'cls.seq_relationship.bias', 'cls.predictions.transform.LayerNorm.weight', 'cls.predictions.transform.LayerNorm.bias']\n",
            "- This IS expected if you are initializing BertForSequenceClassification from the checkpoint of a model trained on another task or with another architecture (e.g. initializing a BertForSequenceClassification model from a BertForPretraining model).\n",
            "- This IS NOT expected if you are initializing BertForSequenceClassification from the checkpoint of a model that you expect to be exactly identical (initializing a BertForSequenceClassification model from a BertForSequenceClassification model).\n",
            "Some weights of BertForSequenceClassification were not initialized from the model checkpoint at bert-base-chinese and are newly initialized: ['classifier.weight', 'classifier.bias']\n",
            "You should probably TRAIN this model on a down-stream task to be able to use it for predictions and inference.\n"
          ],
          "name": "stderr"
        }
      ]
    },
    {
      "cell_type": "code",
      "metadata": {
        "id": "7clduL9xEKJD",
        "colab": {
          "base_uri": "https://localhost:8080/",
          "height": 34
        },
        "outputId": "dad38358-56df-4700-f5fe-dac1526d1ee2"
      },
      "source": [
        "len(hf_tokenizer)"
      ],
      "execution_count": null,
      "outputs": [
        {
          "output_type": "execute_result",
          "data": {
            "text/plain": [
              "21128"
            ]
          },
          "metadata": {
            "tags": []
          },
          "execution_count": 14
        }
      ]
    },
    {
      "cell_type": "code",
      "metadata": {
        "id": "p71-Oma_5ZUo",
        "colab": {
          "base_uri": "https://localhost:8080/",
          "height": 34
        },
        "outputId": "7b55aa11-1070-4e3b-aac5-56d5d62dc4a5"
      },
      "source": [
        "hf_tokenizer.add_special_tokens({\n",
        "    'additional_special_tokens': ['xxlen', 'xxtrn', 'xxsdr', 'xxblk']\n",
        "})\n",
        "hf_tokenizer.sanitize_special_tokens()\n",
        "print(hf_tokenizer.all_special_tokens)"
      ],
      "execution_count": null,
      "outputs": [
        {
          "output_type": "stream",
          "text": [
            "['[SEP]', 'xxblk', '[CLS]', 'xxsdr', 'xxlen', '[PAD]', 'xxtrn', '[MASK]', '[UNK]']\n"
          ],
          "name": "stdout"
        }
      ]
    },
    {
      "cell_type": "code",
      "metadata": {
        "id": "RgqVGG7PEOHI",
        "colab": {
          "base_uri": "https://localhost:8080/",
          "height": 34
        },
        "outputId": "f636913f-f028-4f84-c650-3838a396866a"
      },
      "source": [
        "len(hf_tokenizer)"
      ],
      "execution_count": null,
      "outputs": [
        {
          "output_type": "execute_result",
          "data": {
            "text/plain": [
              "21132"
            ]
          },
          "metadata": {
            "tags": []
          },
          "execution_count": 16
        }
      ]
    },
    {
      "cell_type": "code",
      "metadata": {
        "id": "283lt40KD0gE",
        "colab": {
          "base_uri": "https://localhost:8080/",
          "height": 34
        },
        "outputId": "630040ae-5143-4410-ad4e-10fa9d64bdb0"
      },
      "source": [
        "hf_model.resize_token_embeddings(len(hf_tokenizer))"
      ],
      "execution_count": null,
      "outputs": [
        {
          "output_type": "execute_result",
          "data": {
            "text/plain": [
              "Embedding(21132, 768)"
            ]
          },
          "metadata": {
            "tags": []
          },
          "execution_count": 17
        }
      ]
    },
    {
      "cell_type": "code",
      "metadata": {
        "id": "RZOFRUP6utpI",
        "colab": {
          "base_uri": "https://localhost:8080/",
          "height": 1000
        },
        "outputId": "a0701323-6de9-43f0-b689-693b662a0419"
      },
      "source": [
        "trn_df = pd.read_csv(\n",
        "    DATA_DIR / 'train_dq-cn.csv',\n",
        "    usecols=('label_a_e_s', 'text')\n",
        ")\n",
        "trn_df = trn_df.assign(is_vld=False)\n",
        "display(trn_df.head())\n",
        "display(trn_df.text.str.split(' ').str.len().describe(percentiles=[.5, .95]))\n",
        "\n",
        "vld_df = pd.read_csv(\n",
        "    DATA_DIR / 'dev_dq-cn.csv',\n",
        "    usecols=('label_a_e_s', 'text')\n",
        ")\n",
        "vld_df = vld_df.assign(is_vld=True)\n",
        "display(vld_df.head())\n",
        "display(vld_df.text.str.split(' ').str.len().describe(percentiles=[.5, .95]))\n",
        "\n",
        "tst_df = pd.read_csv(\n",
        "    DATA_DIR / 'test_dq-cn.csv',\n",
        "    usecols=('text', 'id')\n",
        ")\n",
        "display(tst_df.head())\n",
        "display(tst_df.text.str.split(' ').str.len().describe(percentiles=[.5, .95]))"
      ],
      "execution_count": null,
      "outputs": [
        {
          "output_type": "display_data",
          "data": {
            "text/html": [
              "<div>\n",
              "<style scoped>\n",
              "    .dataframe tbody tr th:only-of-type {\n",
              "        vertical-align: middle;\n",
              "    }\n",
              "\n",
              "    .dataframe tbody tr th {\n",
              "        vertical-align: top;\n",
              "    }\n",
              "\n",
              "    .dataframe thead th {\n",
              "        text-align: right;\n",
              "    }\n",
              "</style>\n",
              "<table border=\"1\" class=\"dataframe\">\n",
              "  <thead>\n",
              "    <tr style=\"text-align: right;\">\n",
              "      <th></th>\n",
              "      <th>label_a_e_s</th>\n",
              "      <th>text</th>\n",
              "      <th>is_vld</th>\n",
              "    </tr>\n",
              "  </thead>\n",
              "  <tbody>\n",
              "    <tr>\n",
              "      <th>0</th>\n",
              "      <td>aC;eE;sE</td>\n",
              "      <td>xxlen 2 &lt;s&gt; xxtrn 1 xxsdr customer 中国电信的控制箱就这样吗？也没有人维护,信息安全和人身安全怎么保障？还是好好修修吧？这个应该不差钱吧？位于济南市新泺大街雅居园小区门对面.@中国电信 @中国电信客服 @中国电信济南客服 &lt;/s&gt; &lt;/s&gt; xxtrn 2 xxsdr helpdesk 您好,您反映的情况我们已认真记录,会及时向相关部门反馈,敬请等待[呵呵]； &lt;/s&gt;</td>\n",
              "      <td>False</td>\n",
              "    </tr>\n",
              "    <tr>\n",
              "      <th>1</th>\n",
              "      <td>aC;eB;sE</td>\n",
              "      <td>xxlen 2 &lt;s&gt; xxtrn 1 xxsdr customer 中国电信的控制箱就这样吗？也没有人维护,信息安全和人身安全怎么保障？还是好好修修吧？这个应该不差钱吧？位于济南市新泺大街雅居园小区门对面.@中国电信 @中国电信客服 @中国电信济南客服 &lt;/s&gt; &lt;/s&gt; xxtrn 2 xxsdr helpdesk 您好,您反映的情况我们已认真记录,会及时向相关部门反馈,敬请等待[呵呵]； &lt;/s&gt;</td>\n",
              "      <td>False</td>\n",
              "    </tr>\n",
              "    <tr>\n",
              "      <th>2</th>\n",
              "      <td>aC;eB;sE</td>\n",
              "      <td>xxlen 2 &lt;s&gt; xxtrn 1 xxsdr customer 中国电信的控制箱就这样吗？也没有人维护,信息安全和人身安全怎么保障？还是好好修修吧？这个应该不差钱吧？位于济南市新泺大街雅居园小区门对面.@中国电信 @中国电信客服 @中国电信济南客服 &lt;/s&gt; &lt;/s&gt; xxtrn 2 xxsdr helpdesk 您好,您反映的情况我们已认真记录,会及时向相关部门反馈,敬请等待[呵呵]； &lt;/s&gt;</td>\n",
              "      <td>False</td>\n",
              "    </tr>\n",
              "    <tr>\n",
              "      <th>3</th>\n",
              "      <td>aC;eC;sC</td>\n",
              "      <td>xxlen 2 &lt;s&gt; xxtrn 1 xxsdr customer 中国电信的控制箱就这样吗？也没有人维护,信息安全和人身安全怎么保障？还是好好修修吧？这个应该不差钱吧？位于济南市新泺大街雅居园小区门对面.@中国电信 @中国电信客服 @中国电信济南客服 &lt;/s&gt; &lt;/s&gt; xxtrn 2 xxsdr helpdesk 您好,您反映的情况我们已认真记录,会及时向相关部门反馈,敬请等待[呵呵]； &lt;/s&gt;</td>\n",
              "      <td>False</td>\n",
              "    </tr>\n",
              "    <tr>\n",
              "      <th>4</th>\n",
              "      <td>aC;eC;sC</td>\n",
              "      <td>xxlen 2 &lt;s&gt; xxtrn 1 xxsdr customer 中国电信的控制箱就这样吗？也没有人维护,信息安全和人身安全怎么保障？还是好好修修吧？这个应该不差钱吧？位于济南市新泺大街雅居园小区门对面.@中国电信 @中国电信客服 @中国电信济南客服 &lt;/s&gt; &lt;/s&gt; xxtrn 2 xxsdr helpdesk 您好,您反映的情况我们已认真记录,会及时向相关部门反馈,敬请等待[呵呵]； &lt;/s&gt;</td>\n",
              "      <td>False</td>\n",
              "    </tr>\n",
              "  </tbody>\n",
              "</table>\n",
              "</div>"
            ],
            "text/plain": [
              "  label_a_e_s  ... is_vld\n",
              "0    aC;eE;sE  ...  False\n",
              "1    aC;eB;sE  ...  False\n",
              "2    aC;eB;sE  ...  False\n",
              "3    aC;eC;sC  ...  False\n",
              "4    aC;eC;sC  ...  False\n",
              "\n",
              "[5 rows x 3 columns]"
            ]
          },
          "metadata": {
            "tags": []
          }
        },
        {
          "output_type": "display_data",
          "data": {
            "text/plain": [
              "count    70300.000000\n",
              "mean        34.854595\n",
              "std         12.128986\n",
              "min         16.000000\n",
              "50%         34.000000\n",
              "95%         54.000000\n",
              "max        153.000000\n",
              "Name: text, dtype: float64"
            ]
          },
          "metadata": {
            "tags": []
          }
        },
        {
          "output_type": "display_data",
          "data": {
            "text/html": [
              "<div>\n",
              "<style scoped>\n",
              "    .dataframe tbody tr th:only-of-type {\n",
              "        vertical-align: middle;\n",
              "    }\n",
              "\n",
              "    .dataframe tbody tr th {\n",
              "        vertical-align: top;\n",
              "    }\n",
              "\n",
              "    .dataframe thead th {\n",
              "        text-align: right;\n",
              "    }\n",
              "</style>\n",
              "<table border=\"1\" class=\"dataframe\">\n",
              "  <thead>\n",
              "    <tr style=\"text-align: right;\">\n",
              "      <th></th>\n",
              "      <th>label_a_e_s</th>\n",
              "      <th>text</th>\n",
              "      <th>is_vld</th>\n",
              "    </tr>\n",
              "  </thead>\n",
              "  <tbody>\n",
              "    <tr>\n",
              "      <th>0</th>\n",
              "      <td>aC;eC;sC</td>\n",
              "      <td>xxlen 4 &lt;s&gt; xxtrn 1 xxsdr customer #内涵段子# 联通你有些皮了！不过为你点赞 @中国联通 @中国联通客服 掌上营业厅（内涵段子的话题 也被封了_） 郑州·河南... ​ &lt;/s&gt; &lt;/s&gt; xxtrn 2 xxsdr helpdesk  xxblk  小u来了 &lt;/s&gt; &lt;/s&gt; xxtrn 3 xxsdr customer 那夸夸你 &lt;/s&gt; &lt;/s&gt; xxtrn 4 xxsdr helpdesk  xxblk  &lt;/s&gt;</td>\n",
              "      <td>True</td>\n",
              "    </tr>\n",
              "    <tr>\n",
              "      <th>1</th>\n",
              "      <td>aC;eC;sA</td>\n",
              "      <td>xxlen 4 &lt;s&gt; xxtrn 1 xxsdr customer #内涵段子# 联通你有些皮了！不过为你点赞 @中国联通 @中国联通客服 掌上营业厅（内涵段子的话题 也被封了_） 郑州·河南... ​ &lt;/s&gt; &lt;/s&gt; xxtrn 2 xxsdr helpdesk  xxblk  小u来了 &lt;/s&gt; &lt;/s&gt; xxtrn 3 xxsdr customer 那夸夸你 &lt;/s&gt; &lt;/s&gt; xxtrn 4 xxsdr helpdesk  xxblk  &lt;/s&gt;</td>\n",
              "      <td>True</td>\n",
              "    </tr>\n",
              "    <tr>\n",
              "      <th>2</th>\n",
              "      <td>aC;eC;sC</td>\n",
              "      <td>xxlen 4 &lt;s&gt; xxtrn 1 xxsdr customer #内涵段子# 联通你有些皮了！不过为你点赞 @中国联通 @中国联通客服 掌上营业厅（内涵段子的话题 也被封了_） 郑州·河南... ​ &lt;/s&gt; &lt;/s&gt; xxtrn 2 xxsdr helpdesk  xxblk  小u来了 &lt;/s&gt; &lt;/s&gt; xxtrn 3 xxsdr customer 那夸夸你 &lt;/s&gt; &lt;/s&gt; xxtrn 4 xxsdr helpdesk  xxblk  &lt;/s&gt;</td>\n",
              "      <td>True</td>\n",
              "    </tr>\n",
              "    <tr>\n",
              "      <th>3</th>\n",
              "      <td>aC;eC;sB</td>\n",
              "      <td>xxlen 4 &lt;s&gt; xxtrn 1 xxsdr customer #内涵段子# 联通你有些皮了！不过为你点赞 @中国联通 @中国联通客服 掌上营业厅（内涵段子的话题 也被封了_） 郑州·河南... ​ &lt;/s&gt; &lt;/s&gt; xxtrn 2 xxsdr helpdesk  xxblk  小u来了 &lt;/s&gt; &lt;/s&gt; xxtrn 3 xxsdr customer 那夸夸你 &lt;/s&gt; &lt;/s&gt; xxtrn 4 xxsdr helpdesk  xxblk  &lt;/s&gt;</td>\n",
              "      <td>True</td>\n",
              "    </tr>\n",
              "    <tr>\n",
              "      <th>4</th>\n",
              "      <td>aC;eC;sC</td>\n",
              "      <td>xxlen 4 &lt;s&gt; xxtrn 1 xxsdr customer #内涵段子# 联通你有些皮了！不过为你点赞 @中国联通 @中国联通客服 掌上营业厅（内涵段子的话题 也被封了_） 郑州·河南... ​ &lt;/s&gt; &lt;/s&gt; xxtrn 2 xxsdr helpdesk  xxblk  小u来了 &lt;/s&gt; &lt;/s&gt; xxtrn 3 xxsdr customer 那夸夸你 &lt;/s&gt; &lt;/s&gt; xxtrn 4 xxsdr helpdesk  xxblk  &lt;/s&gt;</td>\n",
              "      <td>True</td>\n",
              "    </tr>\n",
              "  </tbody>\n",
              "</table>\n",
              "</div>"
            ],
            "text/plain": [
              "  label_a_e_s  ... is_vld\n",
              "0    aC;eC;sC  ...   True\n",
              "1    aC;eC;sA  ...   True\n",
              "2    aC;eC;sC  ...   True\n",
              "3    aC;eC;sB  ...   True\n",
              "4    aC;eC;sC  ...   True\n",
              "\n",
              "[5 rows x 3 columns]"
            ]
          },
          "metadata": {
            "tags": []
          }
        },
        {
          "output_type": "display_data",
          "data": {
            "text/plain": [
              "count    7410.000000\n",
              "mean       37.741026\n",
              "std        13.157035\n",
              "min        16.000000\n",
              "50%        39.000000\n",
              "95%        58.000000\n",
              "max        74.000000\n",
              "Name: text, dtype: float64"
            ]
          },
          "metadata": {
            "tags": []
          }
        },
        {
          "output_type": "display_data",
          "data": {
            "text/html": [
              "<div>\n",
              "<style scoped>\n",
              "    .dataframe tbody tr th:only-of-type {\n",
              "        vertical-align: middle;\n",
              "    }\n",
              "\n",
              "    .dataframe tbody tr th {\n",
              "        vertical-align: top;\n",
              "    }\n",
              "\n",
              "    .dataframe thead th {\n",
              "        text-align: right;\n",
              "    }\n",
              "</style>\n",
              "<table border=\"1\" class=\"dataframe\">\n",
              "  <thead>\n",
              "    <tr style=\"text-align: right;\">\n",
              "      <th></th>\n",
              "      <th>id</th>\n",
              "      <th>text</th>\n",
              "    </tr>\n",
              "  </thead>\n",
              "  <tbody>\n",
              "    <tr>\n",
              "      <th>0</th>\n",
              "      <td>4233862139754141</td>\n",
              "      <td>xxlen 6 &lt;s&gt; xxtrn 1 xxsdr customer #工信投诉#中国联通在广州市番禺区汀沙村,未有通知下情况下进行光纤整改,并且停止了本人的光纤使用(光纤未到期),需要本人缴纳300元左右的整改费才愿意恢复网络.我想问,你们管不管？？？强制性消费吗？ @工信微报 @广州联通 @中国联通 @中国联通广东客服 &lt;/s&gt; &lt;/s&gt; xxtrn 2 xxsdr helpdesk 您好,关于您反映的问题,请私信方式提供您具体的宽带账号（如有绑定联通手机号码请一起提供）、宽带安装使用地址（番禺区*路*号*层）、有效的联系电话,以便小U详细记录交给工作人员跟进核查.谢谢！ &lt;/s&gt; &lt;/s&gt; xxtrn 3 xxsdr customer 私信了没人管 &lt;/s&gt; &lt;/s&gt; xxtrn 4 xxsdr helpdesk 小U暂时没有收到您的私信哦,烦请提供详细信息这边为您跟进的,谢谢！ &lt;/s&gt; &lt;/s&gt; xxtrn 5 xxsdr customer 图片评论 ¡评论配图 &lt;/s&gt; &lt;/s&gt; xxtrn 6 xxsdr helpdesk 您好,您反映的问题及提供的信息小U已知悉,并交到我司工作人员核查跟进,请您留意我司工作人员的联系回复哦,谢谢！ &lt;/s&gt;</td>\n",
              "    </tr>\n",
              "    <tr>\n",
              "      <th>1</th>\n",
              "      <td>4235334818389354</td>\n",
              "      <td>xxlen 6 &lt;s&gt; xxtrn 1 xxsdr customer @中国联通湖南客服 @中国联通 用了几年了,每次回家就是这个效果～不给个解释吗～ &lt;/s&gt; &lt;/s&gt; xxtrn 2 xxsdr helpdesk 您好！我公司对网络建设和完善都非常重视,正在不断加强网络信号覆盖地域.关于您反馈的信号的问题,如方便,请您私信提供您的联系方式,以及发现网络弱区详细地址（***市**区***路**号**层）,以便我们核查信号覆盖情况后与您联系反馈.感谢您的理解与支持！ &lt;/s&gt; &lt;/s&gt; xxtrn 3 xxsdr customer 每次就是几个电话处理了 下次回家我会再来的…@中国联通湖南客服 &lt;/s&gt; &lt;/s&gt; xxtrn 4 xxsdr helpdesk 工作人员核实之后会第一时间联系您的,请您留意哦~ &lt;/s&gt; &lt;/s&gt; xxtrn 5 xxsdr customer 午回家还是没有改善,接着投诉电话打起～ &lt;/s&gt; &lt;/s&gt; xxtrn 6 xxsdr helpdesk 您可先关注使用情况,后期有任何问题可随时联系小U反馈哦~感谢您的理解与支持！ &lt;/s&gt;</td>\n",
              "    </tr>\n",
              "    <tr>\n",
              "      <th>2</th>\n",
              "      <td>4235390547973401</td>\n",
              "      <td>xxlen 2 &lt;s&gt; xxtrn 1 xxsdr customer @搜狗输入法技术支持  能不能帮我找到我之前一个时间段所输入过的所有字.非常重要.谢谢您 2北京 · 五棵松 &lt;/s&gt; &lt;/s&gt; xxtrn 2 xxsdr helpdesk 您好,输入法无法找回您输入过的文字的功能,抱歉 &lt;/s&gt;</td>\n",
              "    </tr>\n",
              "    <tr>\n",
              "      <th>3</th>\n",
              "      <td>4235547189344573</td>\n",
              "      <td>xxlen 4 &lt;s&gt; xxtrn 1 xxsdr customer VIVO手机连接车载蓝牙就会自己播放手机自带音乐怎么取消?@vivo客服 @vivo福建 2福州 · 竹岐乡 &lt;/s&gt; &lt;/s&gt; xxtrn 2 xxsdr helpdesk 您好,小v私信您了解下,请留意私信消息. &lt;/s&gt; &lt;/s&gt; xxtrn 3 xxsdr customer 升级系统了还是链接车载蓝牙就自动播放我的来电音乐 &lt;/s&gt; &lt;/s&gt; xxtrn 4 xxsdr helpdesk 小v在私信中为您解答,请留意私信消息. &lt;/s&gt;</td>\n",
              "    </tr>\n",
              "    <tr>\n",
              "      <th>4</th>\n",
              "      <td>4235569309558615</td>\n",
              "      <td>xxlen 6 &lt;s&gt; xxtrn 1 xxsdr customer 专门买的美图手机用来拍照,里面几千张照片告诉我只能刷机,真是辣鸡#美图手机##拍照##美图#@美图手机 @美图手机官方客服 &lt;/s&gt; &lt;/s&gt; xxtrn 2 xxsdr helpdesk 亲亲,抱歉给您带来不便,这个是手机升级后为了保障安全改为6位密码,如果您这里密码不清楚是需要到网点检测查看下,小美与您私信方便与您沟通届时您可以查看下 &lt;/s&gt; &lt;/s&gt; xxtrn 3 xxsdr customer 官方客服并没有说密码是可以检测,直接让我去刷机,我在深圳九方实体店买的,我去网点后希望能有一个合理的解决方案 &lt;/s&gt; &lt;/s&gt; xxtrn 4 xxsdr helpdesk 亲亲,抱歉给您带来不便,这里您可以查看私信方便和您沟通哦 &lt;/s&gt; &lt;/s&gt; xxtrn 5 xxsdr customer 已经私信你了,通话网点人员被告知不能检测只能刷机,请有一个合理并可以实施的解决方案 &lt;/s&gt; &lt;/s&gt; xxtrn 6 xxsdr helpdesk 亲亲,小美这边已私信与您沟通了解,建议您到我们售后网点刷机处理呢,您后续有需要帮助可以私信联系小美或拨打客服热线4009909696,我们都将会竭诚为您服务 &lt;/s&gt;</td>\n",
              "    </tr>\n",
              "  </tbody>\n",
              "</table>\n",
              "</div>"
            ],
            "text/plain": [
              "                 id                                                                                                                                                                                                                                                                                                                                                                                                                                                                                                                                                                 text\n",
              "0  4233862139754141             xxlen 6 <s> xxtrn 1 xxsdr customer #工信投诉#中国联通在广州市番禺区汀沙村,未有通知下情况下进行光纤整改,并且停止了本人的光纤使用(光纤未到期),需要本人缴纳300元左右的整改费才愿意恢复网络.我想问,你们管不管？？？强制性消费吗？ @工信微报 @广州联通 @中国联通 @中国联通广东客服 </s> </s> xxtrn 2 xxsdr helpdesk 您好,关于您反映的问题,请私信方式提供您具体的宽带账号（如有绑定联通手机号码请一起提供）、宽带安装使用地址（番禺区*路*号*层）、有效的联系电话,以便小U详细记录交给工作人员跟进核查.谢谢！ </s> </s> xxtrn 3 xxsdr customer 私信了没人管 </s> </s> xxtrn 4 xxsdr helpdesk 小U暂时没有收到您的私信哦,烦请提供详细信息这边为您跟进的,谢谢！ </s> </s> xxtrn 5 xxsdr customer 图片评论 ¡评论配图 </s> </s> xxtrn 6 xxsdr helpdesk 您好,您反映的问题及提供的信息小U已知悉,并交到我司工作人员核查跟进,请您留意我司工作人员的联系回复哦,谢谢！ </s>\n",
              "1  4235334818389354                                                             xxlen 6 <s> xxtrn 1 xxsdr customer @中国联通湖南客服 @中国联通 用了几年了,每次回家就是这个效果～不给个解释吗～ </s> </s> xxtrn 2 xxsdr helpdesk 您好！我公司对网络建设和完善都非常重视,正在不断加强网络信号覆盖地域.关于您反馈的信号的问题,如方便,请您私信提供您的联系方式,以及发现网络弱区详细地址（***市**区***路**号**层）,以便我们核查信号覆盖情况后与您联系反馈.感谢您的理解与支持！ </s> </s> xxtrn 3 xxsdr customer 每次就是几个电话处理了 下次回家我会再来的…@中国联通湖南客服 </s> </s> xxtrn 4 xxsdr helpdesk 工作人员核实之后会第一时间联系您的,请您留意哦~ </s> </s> xxtrn 5 xxsdr customer 午回家还是没有改善,接着投诉电话打起～ </s> </s> xxtrn 6 xxsdr helpdesk 您可先关注使用情况,后期有任何问题可随时联系小U反馈哦~感谢您的理解与支持！ </s>\n",
              "2  4235390547973401                                                                                                                                                                                                                                                                                                                                                                                                              xxlen 2 <s> xxtrn 1 xxsdr customer @搜狗输入法技术支持  能不能帮我找到我之前一个时间段所输入过的所有字.非常重要.谢谢您 2北京 · 五棵松 </s> </s> xxtrn 2 xxsdr helpdesk 您好,输入法无法找回您输入过的文字的功能,抱歉 </s>\n",
              "3  4235547189344573                                                                                                                                                                                                                                                                                                  xxlen 4 <s> xxtrn 1 xxsdr customer VIVO手机连接车载蓝牙就会自己播放手机自带音乐怎么取消?@vivo客服 @vivo福建 2福州 · 竹岐乡 </s> </s> xxtrn 2 xxsdr helpdesk 您好,小v私信您了解下,请留意私信消息. </s> </s> xxtrn 3 xxsdr customer 升级系统了还是链接车载蓝牙就自动播放我的来电音乐 </s> </s> xxtrn 4 xxsdr helpdesk 小v在私信中为您解答,请留意私信消息. </s>\n",
              "4  4235569309558615  xxlen 6 <s> xxtrn 1 xxsdr customer 专门买的美图手机用来拍照,里面几千张照片告诉我只能刷机,真是辣鸡#美图手机##拍照##美图#@美图手机 @美图手机官方客服 </s> </s> xxtrn 2 xxsdr helpdesk 亲亲,抱歉给您带来不便,这个是手机升级后为了保障安全改为6位密码,如果您这里密码不清楚是需要到网点检测查看下,小美与您私信方便与您沟通届时您可以查看下 </s> </s> xxtrn 3 xxsdr customer 官方客服并没有说密码是可以检测,直接让我去刷机,我在深圳九方实体店买的,我去网点后希望能有一个合理的解决方案 </s> </s> xxtrn 4 xxsdr helpdesk 亲亲,抱歉给您带来不便,这里您可以查看私信方便和您沟通哦 </s> </s> xxtrn 5 xxsdr customer 已经私信你了,通话网点人员被告知不能检测只能刷机,请有一个合理并可以实施的解决方案 </s> </s> xxtrn 6 xxsdr helpdesk 亲亲,小美这边已私信与您沟通了解,建议您到我们售后网点刷机处理呢,您后续有需要帮助可以私信联系小美或拨打客服热线4009909696,我们都将会竭诚为您服务 </s>"
            ]
          },
          "metadata": {
            "tags": []
          }
        },
        {
          "output_type": "display_data",
          "data": {
            "text/plain": [
              "count    300.000000\n",
              "mean      36.720000\n",
              "std       13.048466\n",
              "min       16.000000\n",
              "50%       35.000000\n",
              "95%       57.000000\n",
              "max       74.000000\n",
              "Name: text, dtype: float64"
            ]
          },
          "metadata": {
            "tags": []
          }
        }
      ]
    },
    {
      "cell_type": "code",
      "metadata": {
        "id": "ez_04IPcHcTo",
        "colab": {
          "base_uri": "https://localhost:8080/",
          "height": 87
        },
        "outputId": "44e1bd4b-0bbf-476a-fdb8-5a4e3b3527eb"
      },
      "source": [
        "display(trn_df.text.iloc[0])\n",
        "display(' '.join(hf_tokenizer.tokenize(trn_df.text.iloc[0])))"
      ],
      "execution_count": null,
      "outputs": [
        {
          "output_type": "display_data",
          "data": {
            "application/vnd.google.colaboratory.intrinsic+json": {
              "type": "string"
            },
            "text/plain": [
              "'xxlen 2 <s> xxtrn 1 xxsdr customer 中国电信的控制箱就这样吗？也没有人维护,信息安全和人身安全怎么保障？还是好好修修吧？这个应该不差钱吧？位于济南市新泺大街雅居园小区门对面.@中国电信 @中国电信客服 @中国电信济南客服 </s> </s> xxtrn 2 xxsdr helpdesk 您好,您反映的情况我们已认真记录,会及时向相关部门反馈,敬请等待[呵呵]； </s>'"
            ]
          },
          "metadata": {
            "tags": []
          }
        },
        {
          "output_type": "display_data",
          "data": {
            "application/vnd.google.colaboratory.intrinsic+json": {
              "type": "string"
            },
            "text/plain": [
              "'xxlen 2 < s > xxtrn 1 xxsdr c ##ust ##ome ##r 中 国 电 信 的 控 制 箱 就 这 样 吗 ？ 也 没 有 人 维 护 , 信 息 安 全 和 人 身 安 全 怎 么 保 障 ？ 还 是 好 好 修 修 吧 ？ 这 个 应 该 不 差 钱 吧 ？ 位 于 济 南 市 新 [UNK] 大 街 雅 居 园 小 区 门 对 面 . @ 中 国 电 信 @ 中 国 电 信 客 服 @ 中 国 电 信 济 南 客 服 < / s > < / s > xxtrn 2 xxsdr help ##desk 您 好 , 您 反 映 的 情 况 我 们 已 认 真 记 录 , 会 及 时 向 相 关 部 门 反 馈 , 敬 请 等 待 [ 呵 呵 ] ； < / s >'"
            ]
          },
          "metadata": {
            "tags": []
          }
        }
      ]
    },
    {
      "cell_type": "code",
      "metadata": {
        "id": "WKOjiYu9W_H4"
      },
      "source": [
        "lang = 'cn'\n",
        "trn_bs = 12\n",
        "mdl_id = 'bert-base-chinese'"
      ],
      "execution_count": null,
      "outputs": []
    },
    {
      "cell_type": "code",
      "metadata": {
        "id": "sP0XlgfcDoIG"
      },
      "source": [
        "blocks = (\n",
        "    HF_TextBlock(hf_arch=hf_arch, hf_tokenizer=hf_tokenizer),\n",
        "    MultiCategoryBlock()\n",
        ")\n",
        "dblock = DataBlock(\n",
        "    blocks=blocks,\n",
        "    get_x=ColReader('text'),\n",
        "    get_y=ColReader('label_a_e_s', label_delim=';'),\n",
        "    splitter=ColSplitter(col='is_vld')\n",
        ")"
      ],
      "execution_count": null,
      "outputs": []
    },
    {
      "cell_type": "code",
      "metadata": {
        "id": "oZMNWwOHL0ph"
      },
      "source": [
        "# %%timeit -n 1 -r 1 global trn_bs, dls\n",
        "dls = dblock.dataloaders(trn_df.append(vld_df), bs=trn_bs, val_bs=128)"
      ],
      "execution_count": null,
      "outputs": []
    },
    {
      "cell_type": "code",
      "metadata": {
        "id": "aKqfn47bF1VO",
        "colab": {
          "base_uri": "https://localhost:8080/",
          "height": 87
        },
        "outputId": "f14f6216-c5cd-4e89-b576-9b16bfdb2190"
      },
      "source": [
        "display(trn_df.text.iloc[0])\n",
        "display(' '.join(hf_tokenizer.tokenize(trn_df.text.iloc[0])))"
      ],
      "execution_count": null,
      "outputs": [
        {
          "output_type": "display_data",
          "data": {
            "application/vnd.google.colaboratory.intrinsic+json": {
              "type": "string"
            },
            "text/plain": [
              "'xxlen 2 <s> xxtrn 1 xxsdr customer 中国电信的控制箱就这样吗？也没有人维护,信息安全和人身安全怎么保障？还是好好修修吧？这个应该不差钱吧？位于济南市新泺大街雅居园小区门对面.@中国电信 @中国电信客服 @中国电信济南客服 </s> </s> xxtrn 2 xxsdr helpdesk 您好,您反映的情况我们已认真记录,会及时向相关部门反馈,敬请等待[呵呵]； </s>'"
            ]
          },
          "metadata": {
            "tags": []
          }
        },
        {
          "output_type": "display_data",
          "data": {
            "application/vnd.google.colaboratory.intrinsic+json": {
              "type": "string"
            },
            "text/plain": [
              "'xxlen 2 < s > xxtrn 1 xxsdr c ##ust ##ome ##r 中 国 电 信 的 控 制 箱 就 这 样 吗 ？ 也 没 有 人 维 护 , 信 息 安 全 和 人 身 安 全 怎 么 保 障 ？ 还 是 好 好 修 修 吧 ？ 这 个 应 该 不 差 钱 吧 ？ 位 于 济 南 市 新 [UNK] 大 街 雅 居 园 小 区 门 对 面 . @ 中 国 电 信 @ 中 国 电 信 客 服 @ 中 国 电 信 济 南 客 服 < / s > < / s > xxtrn 2 xxsdr help ##desk 您 好 , 您 反 映 的 情 况 我 们 已 认 真 记 录 , 会 及 时 向 相 关 部 门 反 馈 , 敬 请 等 待 [ 呵 呵 ] ； < / s >'"
            ]
          },
          "metadata": {
            "tags": []
          }
        }
      ]
    },
    {
      "cell_type": "code",
      "metadata": {
        "id": "oYj8qWRkV9yT"
      },
      "source": [
        "torch.save(dls, DATA_DIR / f'dls-dq-{mdl_id}-{lang}-b{trn_bs}.pth')"
      ],
      "execution_count": null,
      "outputs": []
    },
    {
      "cell_type": "code",
      "metadata": {
        "id": "yPSDJf1tW7X8"
      },
      "source": [
        "dls = torch.load(DATA_DIR / f'dls-dq-{mdl_id}-{lang}-b{trn_bs}.pth')"
      ],
      "execution_count": null,
      "outputs": []
    },
    {
      "cell_type": "code",
      "metadata": {
        "id": "RHs012ihLTfn",
        "colab": {
          "base_uri": "https://localhost:8080/",
          "height": 35
        },
        "outputId": "2649b39c-4ec2-4793-8090-b4db5151461e"
      },
      "source": [
        "dls.vocab"
      ],
      "execution_count": null,
      "outputs": [
        {
          "output_type": "execute_result",
          "data": {
            "text/plain": [
              "(#15) ['aA','aB','aC','aD','aE','eA','eB','eC','eD','eE'...]"
            ]
          },
          "metadata": {
            "tags": []
          },
          "execution_count": 24
        }
      ]
    },
    {
      "cell_type": "code",
      "metadata": {
        "id": "zrqAyiqQUFI9",
        "colab": {
          "base_uri": "https://localhost:8080/",
          "height": 1000
        },
        "outputId": "c83b2f8c-e98b-4b04-ae18-d07afe71fb79"
      },
      "source": [
        "dls.show_batch()"
      ],
      "execution_count": null,
      "outputs": [
        {
          "output_type": "display_data",
          "data": {
            "text/html": [
              "<table border=\"1\" class=\"dataframe\">\n",
              "  <thead>\n",
              "    <tr style=\"text-align: right;\">\n",
              "      <th></th>\n",
              "      <th>text</th>\n",
              "      <th>None</th>\n",
              "    </tr>\n",
              "  </thead>\n",
              "  <tbody>\n",
              "    <tr>\n",
              "      <th>0</th>\n",
              "      <td>2 &lt; s &gt; 1 customer 中 国 电 信 的 控 制 箱 就 这 样 吗 ？ 也 没 有 人 维 护, 信 息 安 全 和 人 身 安 全 怎 么 保 障 ？ 还 是 好 好 修 修 吧 ？ 这 个 应 该 不 差 钱 吧 ？ 位 于 济 南 市 新 大 街 雅 居 园 小 区 门 对 面. @ 中 国 电 信 @ 中 国 电 信 客 服 @ 中 国 电 信 济 南 客 服 &lt; / s &gt; &lt; / s &gt; 2 helpdesk 您 好, 您 反 映 的 情 况 我 们 已 认 真 记 录, 会 及 时 向 相 关 部 门 反 馈, 敬 请 等 待 [ 呵 呵 ] ； &lt; / s &gt;</td>\n",
              "      <td>aC;eE;sE</td>\n",
              "    </tr>\n",
              "    <tr>\n",
              "      <th>1</th>\n",
              "      <td>6 &lt; s &gt; 1 customer 受 不 了 联 通 了, 先 是 不 停 打 电 话 跟 我 推 销 各 种 业 务, 等 到 真 正 有 需 求, 要 办 理 的 时 候, 说 法 又 是 前 后 不 一, 为 了 一 个 破 副 卡, 电 话 都 打 了 个 还 不 行, 希 望 以 后 客 服 都 专 业 点 儿, 别 忽 悠 客 户. 无 论 如 何, 用 完 这 个 套 餐 再 也 不 用 了 @ 中 国 联 通 广 东 客 服 &lt; / s &gt; &lt; / s &gt; 2 helpdesk 亲, 很 抱 歉, 请 问 关 于 副 卡 的 业 务, 您 是 遇 到 什 么 疑 问 了 呢 ？ 可 以 详 细 的 告 知 小 吗 ？ 小 协 助 您 核 查. 谢 谢. &lt; / s &gt; &lt; / s &gt; 3 customer 使 用 合 约 机, 128 套 餐, 但 由 于 当 时 购 机 时 登 记 身 份 证 为 家 人, 不 是 自 己, 现 其 在 国 外. 之 前 电 话 推 销 说 可 以 办 副 卡, 想 申 请, 电 话 咨 询 客 服, 解 释 清 楚 目 前 购 机 登 记 的 人 在 国 外, 但 手 机 是 我 在 使 用, 只 能 提 供 身 份 证 复 印 件, 客 服 说 可 以 办 理, 只 要 在 网 上 营 业 厅 申 请, 然 后 快 递 上 门 后 凭 身 份 证 复 印 件 即 可 领 取 副 卡, 跟 当 时 购 机 一 样. 结 果 我 弄 好 这 些, 电 话 客 服, 又 说 不 能 网 上 办 理, 只 能 携 带 身 份 证 原 件 去 营 业 厅. 前 后 说 法 不 一 致, 我 还 倒 着 时 差 问 家 人 要 身 份 证 复 印 件. 有 点 折 腾 人, 早 知 道 这 样, 就 不 会 打 算 办 副 卡 &lt; / s &gt; &lt; / s &gt; 4 helpdesk 亲, 很 抱 歉 给 您 带 来 不 好 的 感 知, 如 方 便, 请 您 私 信 提 供 一 下 联 通 号 码 和 联 系 电 话, 小 为 您 转 交 工 作 人 员 核 查, 谢 谢. &lt; / s &gt; &lt; / s &gt; 5 customer 你 好,</td>\n",
              "      <td>aC;eB;sD</td>\n",
              "    </tr>\n",
              "    <tr>\n",
              "      <th>2</th>\n",
              "      <td>4 &lt; s &gt; 1 customer @ 中 国 联 通 客 服 百 思 不 得 其 解 我 2 月 份 的 流 量 很 诡 异 &lt; / s &gt; &lt; / s &gt; 2 helpdesk 您 好, 请 问 是 有 什 么 疑 问 呢 ？ &lt; / s &gt; &lt; / s &gt; 3 customer 明 明 有 一 个 剩 余 的 流 量 包, 为 什 么 还 会 有 超 出 的 流 量 使 用 &lt; / s &gt; &lt; / s &gt; 4 helpdesk 您 好, 您 提 及 的 情 况 @ 中 国 联 通 北 京 客 服 已 跟 进, 您 可 与 其 私 信 联 系 进 行 核 查 一 下 的. &lt; / s &gt;</td>\n",
              "      <td>aE;eB;sC</td>\n",
              "    </tr>\n",
              "    <tr>\n",
              "      <th>3</th>\n",
              "      <td>5 &lt; s &gt; 1 customer @ 中 国 电 信 @ 中 国 电 信 北 京 客 服 你 们 家 的 天 气 预 报 是 超 前 还 是 滞 后 ？ 怎 么 报 下 雨 ？ 我 在 这 里 : 北 京 · 鹿 港... &lt; / s &gt; &lt; / s &gt; 2 helpdesk 童 鞋, 什 么 时 候 收 到 的 天 气 预 报 呢 ？ &lt; / s &gt; &lt; / s &gt; 3 customer 上 午 9 点. 刚 才 又 更 新 一 次, 仍 然 是 小 雨. &lt; / s &gt; &lt; / s &gt; 4 helpdesk 您 是 都 到 的 短 信 么 还 是 ？ &lt; / s &gt; &lt; / s &gt; 5 customer 写 错 别 字 啦 ！ 不 是 都 到 吧 ？ 应 该 是 收 到 吧 ？ 浮 躁 的 90 后 ？ 我 不 是 收 到 的 短 信 天 气 预 报. 你 们 发 送 短 信 天 气 预 报 吗 ？ 我 从 来 也 没 收 到 过. 是 手 机 桌 面 上 的 天 气 预 报 图 标, 通 过 连 接 你 家 网 络 更 新 的. 不 准 确 的 时 候 很 多. &lt; / s &gt;</td>\n",
              "      <td>aC;eD;sE</td>\n",
              "    </tr>\n",
              "    <tr>\n",
              "      <th>4</th>\n",
              "      <td>6 &lt; s &gt; 1 customer @ 乐 视 超 级 电 视 @ 乐 视 客 服 团 长 @ 乐 视 商 城 买 的 x3 _ 50 才 几 个 月, 老 是 黑 屏 闪 屏, 每 次 闪 一 到 两 秒 钟, 怎 么 回 事 ？ 怎 么 办 ？ &lt; / s &gt; &lt; / s &gt; 2 helpdesk 您 好, 抱 歉 给 您 带 来 不 便 了, 请 问 您 在 所 有 信 号 源 下 均 显 示 吗 ？ &lt; / s &gt; &lt; / s &gt; 3 customer 平 时 都 只 是 看 直 播 的 信 号, 其 他 信 号 源 没 怎 么 用 过, 没 注 意 是 否 也 闪 屏 &lt; / s &gt; &lt; / s &gt; 4 helpdesk 您 好, 麻 烦 您 核 实 下 在 其 他 信 号 源 下 是 否 也 会 出 现 这 个 情 况 呢 ~ &lt; / s &gt; &lt; / s &gt; 5 customer 它 是 基 本 是 三 四 十 分 钟 出 现 一 次 闪 屏, 印 象 中 好 像 其 他 信 号 源 出 现 过 &lt; / s &gt; &lt; / s &gt; 6 helpdesk 团 长 私 信 您 处 理, 麻 烦 您 查 收 下 ~ &lt; / s &gt;</td>\n",
              "      <td>aE;eE;sE</td>\n",
              "    </tr>\n",
              "    <tr>\n",
              "      <th>5</th>\n",
              "      <td>3 &lt; s &gt; 1 customer 老 罗, 希 望 锤 子 科 技 的 客 服 部 门 和 法 务 部 门 能 澄 清 一 下 此 事 是 否 存 在. 如 果 是, 如 何 解 决. 如 果 不 是, 公 司 （ 老 罗 英 语 ） 楼 下 就 是 法 院, 你 懂 的. @ 罗 永 浩 @ 朱 萧 木 @ 锤 子 科 技 @ 锤 子 科 技 客 服 &lt; / s &gt; &lt; / s &gt; 2 helpdesk 您 好, 目 前 我 们 还 没 有 收 到 用 户 关 于 这 方 面 的 反 馈. &lt; / s &gt; &lt; / s &gt; 3 customer 如 果 真 此 事 为 真, 希 望 锤 子 科 技 能 发 扬 老 罗 的 风 格, 不 掖 着 藏 着. 如 果 是 造 谣, 希 望 锤 子 科 技 更 要 发 扬 老 罗 的 风 格, 告 到 无 良 媒 体 腿 软. &lt; / s &gt;</td>\n",
              "      <td>aC;eC;sD</td>\n",
              "    </tr>\n",
              "    <tr>\n",
              "      <th>6</th>\n",
              "      <td>6 &lt; s &gt; 1 customer @ 马 连 道 茶 城 @ 一 商 集 团 @ 中 国 联 通 北 京 客 服 什 么 时 候 能 改 造 下 北 京 马 连 道 茶 城 ( 一 商 大 厦 ) 的 宽 带 呢 ？ 啥 时 候 能 升 级 个 光 纤 啊 ？ 现 在 的 带 宽 太 慢 了 ！ 跟 不 上 这 个 网 络 时 代 的 步 伐 啊 北 京 · 粮 呈... &lt; / s &gt; &lt; / s &gt; 2 helpdesk 您 可 登 录 北 京 宽 带 网 （ www. bbn. com. cn ） 查 询 光 纤 覆 盖 情 况, 如 已 覆 盖 可 通 过 网 页 链 接 沃 宽 客 户 端 办 理 光 纤 改 造 业 务. &lt; / s &gt; &lt; / s &gt; 3 customer 就 是 因 为 没 有 光 纤 覆 盖 呢, 所 以 想 反 馈 下, 希 望 联 通 和 马 连 道 茶 城 协 商 解 决 &lt; / s &gt; &lt; / s &gt; 4 helpdesk 您 是 否 申 请 过 光 改 ？ 最 近 什 么 时 间 申 请 过 吗 ？ &lt; / s &gt; &lt; / s &gt; 5 customer 当 时 到 营 业 厅 就 说 要 办 光 纤 的, 可 是 营 业 员 说 那 大 厦 办 不 了, 只 能 办 的 带 宽 的 &lt; / s &gt; &lt; / s &gt; 6 helpdesk 若 确 实 存 在 客 观 条 件, 不 具 备 安 装 条 件, 暂 不 能 办 理 光 改 哦. 我 公 司 也 在 积 极 推 进 改 造 工 作, 您 再 关 注. &lt; / s &gt;</td>\n",
              "      <td>aB;eC;sC</td>\n",
              "    </tr>\n",
              "    <tr>\n",
              "      <th>7</th>\n",
              "      <td>3 &lt; s &gt; 1 customer @ 音 悦 客 服 台 亲, 我 的 视 频 上 传 已 经 快 半 个 月 了, 怎 么 还 不 给 通 过 啊 每 次 都 这 样, 很 让 人 伤 心 哎 ！ ！ ！ 能 不 能 过, 给 个 痛 快 话 行 不 ？ &lt; / s &gt; &lt; / s &gt; 2 helpdesk 抱 歉 耽 误 您 的 审 核 啦 亲 您 将 编 号 给 我 一 下 马 上 帮 您 查 看 &lt; / s &gt; &lt; / s &gt; 3 customer 1174009 谢 谢 &lt; / s &gt;</td>\n",
              "      <td>aC;eA;sE</td>\n",
              "    </tr>\n",
              "    <tr>\n",
              "      <th>8</th>\n",
              "      <td>3 &lt; s &gt; 1 customer 手 机 屏 幕 上 的 照 相 机 图 标 不 知 道 怎 么 没 有 了, 桌 面 上 的 文 件 夹 里 也 没 有, 怎 么 能 把 它 找 出 来 ？ @ 锤 子 科 技 客 服 &lt; / s &gt; &lt; / s &gt; 2 helpdesk 您 好, 请 问 您 使 用 的 是 宫 格 桌 面 还 是 安 卓 原 生 桌 面 呢 ？ &lt; / s &gt; &lt; / s &gt; 3 customer 安 卓 原 生 &lt; / s &gt;</td>\n",
              "      <td>aD;eB;sB</td>\n",
              "    </tr>\n",
              "  </tbody>\n",
              "</table>"
            ],
            "text/plain": [
              "<IPython.core.display.HTML object>"
            ]
          },
          "metadata": {
            "tags": []
          }
        }
      ]
    },
    {
      "cell_type": "code",
      "metadata": {
        "id": "wy2kXbhODWIf"
      },
      "source": [
        "tst_dl = dls.test_dl(tst_df.text.tolist(), bs=128)"
      ],
      "execution_count": null,
      "outputs": []
    },
    {
      "cell_type": "code",
      "metadata": {
        "id": "dRZWsKbSkQ-9"
      },
      "source": [
        "torch.save(tst_dl, DATA_DIR / f'tst_dl-dq-{mdl_id}-{lang}.pth')"
      ],
      "execution_count": null,
      "outputs": []
    },
    {
      "cell_type": "code",
      "metadata": {
        "id": "uhGP8Um5kbEP"
      },
      "source": [
        "tst_dl = torch.load(DATA_DIR / f'tst_dl-dq-{mdl_id}-{lang}.pth')"
      ],
      "execution_count": null,
      "outputs": []
    },
    {
      "cell_type": "code",
      "metadata": {
        "id": "uk6anMNwOLPa"
      },
      "source": [
        "mdl = HF_BaseModelWrapper(hf_model)\n",
        "lrnr = Learner(\n",
        "    dls,\n",
        "    mdl,\n",
        "    opt_func=partial(Adam, decouple_wd=True),\n",
        "    loss_func=BCEWithLogitsLossFlat(),\n",
        "    metrics=[\n",
        "        accuracy_multi,\n",
        "        APScoreMulti(average='weighted'),\n",
        "        F1ScoreMulti(average='weighted'),\n",
        "        JaccardMulti(average='weighted'),\n",
        "    ],\n",
        "    cbs=[HF_BaseModelCallback],\n",
        "    splitter=hf_splitter,\n",
        "    path=DATA_DIR,\n",
        ")\n",
        "lrnr = lrnr.to_fp16()\n",
        "lrnr.create_opt()"
      ],
      "execution_count": null,
      "outputs": []
    },
    {
      "cell_type": "code",
      "metadata": {
        "id": "xqMPqZHeLe38"
      },
      "source": [
        "# lrnr.blurr_summary()"
      ],
      "execution_count": null,
      "outputs": []
    },
    {
      "cell_type": "code",
      "metadata": {
        "id": "lUwz2rST5ELN"
      },
      "source": [
        "# lrnr.freeze()"
      ],
      "execution_count": null,
      "outputs": []
    },
    {
      "cell_type": "code",
      "metadata": {
        "id": "pj6n6G6pRf9n",
        "colab": {
          "base_uri": "https://localhost:8080/",
          "height": 300
        },
        "outputId": "2627a6cb-0929-4439-cae7-98ecf7588e10"
      },
      "source": [
        "lrnr.lr_find(suggestions=True)"
      ],
      "execution_count": null,
      "outputs": [
        {
          "output_type": "display_data",
          "data": {
            "text/html": [
              ""
            ],
            "text/plain": [
              "<IPython.core.display.HTML object>"
            ]
          },
          "metadata": {
            "tags": []
          }
        },
        {
          "output_type": "execute_result",
          "data": {
            "text/plain": [
              "SuggestedLRs(lr_min=0.017378008365631102, lr_steep=0.14454397559165955)"
            ]
          },
          "metadata": {
            "tags": []
          },
          "execution_count": 32
        },
        {
          "output_type": "display_data",
          "data": {
            "image/png": "[encoded data removed]",
            "text/plain": [
              "<Figure size 432x288 with 1 Axes>"
            ]
          },
          "metadata": {
            "tags": [],
            "needs_background": "light"
          }
        }
      ]
    },
    {
      "cell_type": "code",
      "metadata": {
        "id": "cRubiYueYwks",
        "colab": {
          "base_uri": "https://localhost:8080/",
          "height": 96
        },
        "outputId": "2c84dc69-4127-41f9-f5b7-9950ed423796"
      },
      "source": [
        "lrnr.fit_one_cycle(1, lr_max=slice(2e-6, 2e-3))"
      ],
      "execution_count": null,
      "outputs": [
        {
          "output_type": "display_data",
          "data": {
            "text/html": [
              "<table border=\"1\" class=\"dataframe\">\n",
              "  <thead>\n",
              "    <tr style=\"text-align: left;\">\n",
              "      <th>epoch</th>\n",
              "      <th>train_loss</th>\n",
              "      <th>valid_loss</th>\n",
              "      <th>accuracy_multi</th>\n",
              "      <th>average_precision_score</th>\n",
              "      <th>f1_score</th>\n",
              "      <th>jaccard_score</th>\n",
              "      <th>time</th>\n",
              "    </tr>\n",
              "  </thead>\n",
              "  <tbody>\n",
              "    <tr>\n",
              "      <td>0</td>\n",
              "      <td>0.411742</td>\n",
              "      <td>0.418269</td>\n",
              "      <td>0.811930</td>\n",
              "      <td>0.416878</td>\n",
              "      <td>0.201904</td>\n",
              "      <td>0.134548</td>\n",
              "      <td>43:04</td>\n",
              "    </tr>\n",
              "  </tbody>\n",
              "</table>"
            ],
            "text/plain": [
              "<IPython.core.display.HTML object>"
            ]
          },
          "metadata": {
            "tags": []
          }
        }
      ]
    },
    {
      "cell_type": "code",
      "metadata": {
        "id": "eqOy1_HLzr2t"
      },
      "source": [
        "cl_name = f'{mdl_id}-b{trn_bs}-cl1_lr2En3'\n",
        "lrnr.save(f'dialog_cf-{lang}-{cl_name}')"
      ],
      "execution_count": null,
      "outputs": []
    },
    {
      "cell_type": "code",
      "metadata": {
        "id": "GZm5N8YJnFk1"
      },
      "source": [
        "def save_quality_submission_json(\n",
        "    cl_name,\n",
        "    lang='cn',\n",
        "    lrnr=lrnr,\n",
        "    tst_dl=tst_dl,\n",
        "    labels=dls.vocab,\n",
        "    tst_df=tst_df,\n",
        "    folder=DATA_DIR,\n",
        "):\n",
        "    preds, _ = lrnr.get_preds(dl=tst_dl)\n",
        "    scrs_lst = [dict([*zip(labels, scrs.tolist())]) for scrs in preds]\n",
        "\n",
        "    ranks_dict_lst = []\n",
        "    for lbl_scrs_dict in scrs_lst:\n",
        "        ranks_dict = {'A': dict(), 'E': dict(), 'S': dict()}\n",
        "        for lbl, scr in lbl_scrs_dict.items():\n",
        "            ranks_dict[lbl[0].upper()][str(LBL2RNK[lbl[1]])] = scr\n",
        "        ranks_dict_lst.append(ranks_dict)\n",
        "\n",
        "    out_df = tst_df.assign(quality=ranks_dict_lst)\n",
        "    out_df.id = out_df.id.astype(str)\n",
        "    out_df[['id', 'quality']].to_json(\n",
        "        DATA_DIR / f'quality_{lang}_submission-{cl_name}.json',\n",
        "        orient='records',\n",
        "        indent=2\n",
        "    )"
      ],
      "execution_count": null,
      "outputs": []
    },
    {
      "cell_type": "code",
      "metadata": {
        "id": "iraKQXha9cM5",
        "colab": {
          "base_uri": "https://localhost:8080/",
          "height": 17
        },
        "outputId": "d66d793d-3022-4654-f099-ba716dcb03a0"
      },
      "source": [
        "save_quality_submission_json(cl_name, tst_dl=tst_dl, tst_df=tst_df)"
      ],
      "execution_count": null,
      "outputs": [
        {
          "output_type": "display_data",
          "data": {
            "text/html": [
              ""
            ],
            "text/plain": [
              "<IPython.core.display.HTML object>"
            ]
          },
          "metadata": {
            "tags": []
          }
        }
      ]
    },
    {
      "cell_type": "code",
      "metadata": {
        "id": "chl0Qppoy5zK"
      },
      "source": [
        "# lrnr.lr_find(suggestions=True)"
      ],
      "execution_count": null,
      "outputs": []
    },
    {
      "cell_type": "code",
      "metadata": {
        "id": "yfCjT6r3Cko2",
        "colab": {
          "base_uri": "https://localhost:8080/",
          "height": 96
        },
        "outputId": "299c23d7-d0f0-4dec-e1fd-c87888229135"
      },
      "source": [
        "lrnr.fit_one_cycle(1, lr_max=slice(2e-6, 2e-3))"
      ],
      "execution_count": null,
      "outputs": [
        {
          "output_type": "display_data",
          "data": {
            "text/html": [
              "<table border=\"1\" class=\"dataframe\">\n",
              "  <thead>\n",
              "    <tr style=\"text-align: left;\">\n",
              "      <th>epoch</th>\n",
              "      <th>train_loss</th>\n",
              "      <th>valid_loss</th>\n",
              "      <th>accuracy_multi</th>\n",
              "      <th>average_precision_score</th>\n",
              "      <th>f1_score</th>\n",
              "      <th>jaccard_score</th>\n",
              "      <th>time</th>\n",
              "    </tr>\n",
              "  </thead>\n",
              "  <tbody>\n",
              "    <tr>\n",
              "      <td>0</td>\n",
              "      <td>0.409722</td>\n",
              "      <td>0.417864</td>\n",
              "      <td>0.812605</td>\n",
              "      <td>0.419223</td>\n",
              "      <td>0.211277</td>\n",
              "      <td>0.139740</td>\n",
              "      <td>43:48</td>\n",
              "    </tr>\n",
              "  </tbody>\n",
              "</table>"
            ],
            "text/plain": [
              "<IPython.core.display.HTML object>"
            ]
          },
          "metadata": {
            "tags": []
          }
        }
      ]
    },
    {
      "cell_type": "code",
      "metadata": {
        "id": "cXpjiTk2wa1m"
      },
      "source": [
        "cl_name += '-cl1_lr2En3'\n",
        "lrnr.save(f'dialog_cf-{lang}-{cl_name}')"
      ],
      "execution_count": null,
      "outputs": []
    },
    {
      "cell_type": "code",
      "metadata": {
        "id": "u2pNNvTf-t42",
        "colab": {
          "base_uri": "https://localhost:8080/",
          "height": 17
        },
        "outputId": "bff27803-a071-4ee5-a57f-484b8f37f00e"
      },
      "source": [
        "save_quality_submission_json(cl_name)"
      ],
      "execution_count": null,
      "outputs": [
        {
          "output_type": "display_data",
          "data": {
            "text/html": [
              ""
            ],
            "text/plain": [
              "<IPython.core.display.HTML object>"
            ]
          },
          "metadata": {
            "tags": []
          }
        }
      ]
    },
    {
      "cell_type": "code",
      "metadata": {
        "id": "YwL5EKPWUssg",
        "colab": {
          "base_uri": "https://localhost:8080/",
          "height": 96
        },
        "outputId": "564c0134-95ee-454d-92fc-696504643ae7"
      },
      "source": [
        "lrnr.fit_one_cycle(1, lr_max=slice(2e-6, 2e-3))"
      ],
      "execution_count": null,
      "outputs": [
        {
          "output_type": "display_data",
          "data": {
            "text/html": [
              "<table border=\"1\" class=\"dataframe\">\n",
              "  <thead>\n",
              "    <tr style=\"text-align: left;\">\n",
              "      <th>epoch</th>\n",
              "      <th>train_loss</th>\n",
              "      <th>valid_loss</th>\n",
              "      <th>accuracy_multi</th>\n",
              "      <th>average_precision_score</th>\n",
              "      <th>f1_score</th>\n",
              "      <th>jaccard_score</th>\n",
              "      <th>time</th>\n",
              "    </tr>\n",
              "  </thead>\n",
              "  <tbody>\n",
              "    <tr>\n",
              "      <td>0</td>\n",
              "      <td>0.409605</td>\n",
              "      <td>0.418797</td>\n",
              "      <td>0.811660</td>\n",
              "      <td>0.418251</td>\n",
              "      <td>0.210687</td>\n",
              "      <td>0.139824</td>\n",
              "      <td>44:00</td>\n",
              "    </tr>\n",
              "  </tbody>\n",
              "</table>"
            ],
            "text/plain": [
              "<IPython.core.display.HTML object>"
            ]
          },
          "metadata": {
            "tags": []
          }
        }
      ]
    },
    {
      "cell_type": "code",
      "metadata": {
        "id": "tIKkpUOfc-xq"
      },
      "source": [
        "cl_name += '-cl1_lr2En3'\n",
        "lrnr.save(f'dialog_cf-{lang}-{cl_name}')"
      ],
      "execution_count": null,
      "outputs": []
    },
    {
      "cell_type": "code",
      "metadata": {
        "id": "pvxQQIqFdBM5",
        "colab": {
          "base_uri": "https://localhost:8080/",
          "height": 17
        },
        "outputId": "88d927c3-5adc-43c8-fcdf-456d7a601d64"
      },
      "source": [
        "save_quality_submission_json(cl_name)"
      ],
      "execution_count": null,
      "outputs": [
        {
          "output_type": "display_data",
          "data": {
            "text/html": [
              ""
            ],
            "text/plain": [
              "<IPython.core.display.HTML object>"
            ]
          },
          "metadata": {
            "tags": []
          }
        }
      ]
    },
    {
      "cell_type": "code",
      "metadata": {
        "id": "gcBTnS2PbsXn"
      },
      "source": [
        "# lrnr.export(fname=f'{cl_name}.pkl')"
      ],
      "execution_count": null,
      "outputs": []
    },
    {
      "cell_type": "code",
      "metadata": {
        "id": "YZI9Nf_EqmSR"
      },
      "source": [
        "# trn_cf = load_learner(fname=f'{cl_name}.pkl')\n",
        "# lrnr.get_preds()"
      ],
      "execution_count": null,
      "outputs": []
    },
    {
      "cell_type": "code",
      "metadata": {
        "id": "aG32eT6fIDIf"
      },
      "source": [
        "# lrnr.lr_find(suggestions=True)"
      ],
      "execution_count": null,
      "outputs": []
    },
    {
      "cell_type": "code",
      "metadata": {
        "id": "D7j218BCMY3X",
        "colab": {
          "base_uri": "https://localhost:8080/",
          "height": 96
        },
        "outputId": "404f8553-9720-4167-d5f9-85d93eb8f865"
      },
      "source": [
        "lrnr.fit_one_cycle(1, lr_max=slice(1e-6, 1e-3))"
      ],
      "execution_count": null,
      "outputs": [
        {
          "output_type": "display_data",
          "data": {
            "text/html": [
              "<table border=\"1\" class=\"dataframe\">\n",
              "  <thead>\n",
              "    <tr style=\"text-align: left;\">\n",
              "      <th>epoch</th>\n",
              "      <th>train_loss</th>\n",
              "      <th>valid_loss</th>\n",
              "      <th>accuracy_multi</th>\n",
              "      <th>average_precision_score</th>\n",
              "      <th>f1_score</th>\n",
              "      <th>jaccard_score</th>\n",
              "      <th>time</th>\n",
              "    </tr>\n",
              "  </thead>\n",
              "  <tbody>\n",
              "    <tr>\n",
              "      <td>0</td>\n",
              "      <td>0.408671</td>\n",
              "      <td>0.417590</td>\n",
              "      <td>0.812596</td>\n",
              "      <td>0.420036</td>\n",
              "      <td>0.211799</td>\n",
              "      <td>0.140642</td>\n",
              "      <td>44:01</td>\n",
              "    </tr>\n",
              "  </tbody>\n",
              "</table>"
            ],
            "text/plain": [
              "<IPython.core.display.HTML object>"
            ]
          },
          "metadata": {
            "tags": []
          }
        }
      ]
    },
    {
      "cell_type": "code",
      "metadata": {
        "id": "ny-nMpd4Mby_"
      },
      "source": [
        "cl_name += '-cl1_lr1En3'\n",
        "lrnr.save(f'dialog_cf-{lang}-{cl_name}')"
      ],
      "execution_count": null,
      "outputs": []
    },
    {
      "cell_type": "code",
      "metadata": {
        "id": "9kXn5SjUMnTy",
        "colab": {
          "base_uri": "https://localhost:8080/",
          "height": 17
        },
        "outputId": "a73da2cf-1453-4410-ab01-07078d8eaa39"
      },
      "source": [
        "save_quality_submission_json(cl_name)"
      ],
      "execution_count": null,
      "outputs": [
        {
          "output_type": "display_data",
          "data": {
            "text/html": [
              ""
            ],
            "text/plain": [
              "<IPython.core.display.HTML object>"
            ]
          },
          "metadata": {
            "tags": []
          }
        }
      ]
    },
    {
      "cell_type": "code",
      "metadata": {
        "id": "6-w-6N0gMo8Q"
      },
      "source": [
        "# lrnr.export(fname=f'{cl_name}.pkl')"
      ],
      "execution_count": null,
      "outputs": []
    },
    {
      "cell_type": "code",
      "metadata": {
        "id": "3Dixhaq1Mrur"
      },
      "source": [
        "# lrnr.lr_find(suggestions=True)"
      ],
      "execution_count": null,
      "outputs": []
    },
    {
      "cell_type": "code",
      "metadata": {
        "id": "l1lyJU-i3Rd7",
        "colab": {
          "base_uri": "https://localhost:8080/",
          "height": 96
        },
        "outputId": "25b6c10a-bf22-4e48-8b1f-1e93979d67a0"
      },
      "source": [
        "lrnr.fit_one_cycle(1, lr_max=slice(5e-7, 5e-4))"
      ],
      "execution_count": null,
      "outputs": [
        {
          "output_type": "display_data",
          "data": {
            "text/html": [
              "<table border=\"1\" class=\"dataframe\">\n",
              "  <thead>\n",
              "    <tr style=\"text-align: left;\">\n",
              "      <th>epoch</th>\n",
              "      <th>train_loss</th>\n",
              "      <th>valid_loss</th>\n",
              "      <th>accuracy_multi</th>\n",
              "      <th>average_precision_score</th>\n",
              "      <th>f1_score</th>\n",
              "      <th>jaccard_score</th>\n",
              "      <th>time</th>\n",
              "    </tr>\n",
              "  </thead>\n",
              "  <tbody>\n",
              "    <tr>\n",
              "      <td>0</td>\n",
              "      <td>0.412799</td>\n",
              "      <td>0.417458</td>\n",
              "      <td>0.812749</td>\n",
              "      <td>0.421693</td>\n",
              "      <td>0.218648</td>\n",
              "      <td>0.144063</td>\n",
              "      <td>44:00</td>\n",
              "    </tr>\n",
              "  </tbody>\n",
              "</table>"
            ],
            "text/plain": [
              "<IPython.core.display.HTML object>"
            ]
          },
          "metadata": {
            "tags": []
          }
        }
      ]
    },
    {
      "cell_type": "code",
      "metadata": {
        "id": "EJmTPm3y3V2n"
      },
      "source": [
        "cl_name += '-cl1_lr5En4'\n",
        "lrnr.save(f'dialog_cf-{lang}-{cl_name}')"
      ],
      "execution_count": null,
      "outputs": []
    },
    {
      "cell_type": "code",
      "metadata": {
        "id": "UK4Dvn9c3ZfU",
        "colab": {
          "base_uri": "https://localhost:8080/",
          "height": 17
        },
        "outputId": "1e225c69-dc9c-43a2-c8ae-75da7b50becb"
      },
      "source": [
        "save_quality_submission_json(cl_name)"
      ],
      "execution_count": null,
      "outputs": [
        {
          "output_type": "display_data",
          "data": {
            "text/html": [
              ""
            ],
            "text/plain": [
              "<IPython.core.display.HTML object>"
            ]
          },
          "metadata": {
            "tags": []
          }
        }
      ]
    },
    {
      "cell_type": "code",
      "metadata": {
        "id": "oywkm5VKeYP0",
        "colab": {
          "base_uri": "https://localhost:8080/",
          "height": 96
        },
        "outputId": "62fbb934-b07f-4d0a-f795-239aa86af2eb"
      },
      "source": [
        "lrnr.fit_one_cycle(1, lr_max=slice(1e-7, 1e-4))"
      ],
      "execution_count": null,
      "outputs": [
        {
          "output_type": "display_data",
          "data": {
            "text/html": [
              "<table border=\"1\" class=\"dataframe\">\n",
              "  <thead>\n",
              "    <tr style=\"text-align: left;\">\n",
              "      <th>epoch</th>\n",
              "      <th>train_loss</th>\n",
              "      <th>valid_loss</th>\n",
              "      <th>accuracy_multi</th>\n",
              "      <th>average_precision_score</th>\n",
              "      <th>f1_score</th>\n",
              "      <th>jaccard_score</th>\n",
              "      <th>time</th>\n",
              "    </tr>\n",
              "  </thead>\n",
              "  <tbody>\n",
              "    <tr>\n",
              "      <td>0</td>\n",
              "      <td>0.407130</td>\n",
              "      <td>0.417540</td>\n",
              "      <td>0.812659</td>\n",
              "      <td>0.421802</td>\n",
              "      <td>0.222979</td>\n",
              "      <td>0.146950</td>\n",
              "      <td>43:58</td>\n",
              "    </tr>\n",
              "  </tbody>\n",
              "</table>"
            ],
            "text/plain": [
              "<IPython.core.display.HTML object>"
            ]
          },
          "metadata": {
            "tags": []
          }
        }
      ]
    },
    {
      "cell_type": "code",
      "metadata": {
        "id": "_OK5ADFAebjM"
      },
      "source": [
        "cl_name += '-cl1_lr1En4'\n",
        "lrnr.save(f'dialog_cf-{lang}-{cl_name}')"
      ],
      "execution_count": null,
      "outputs": []
    },
    {
      "cell_type": "code",
      "metadata": {
        "id": "HB3x6mQNee_G",
        "colab": {
          "base_uri": "https://localhost:8080/",
          "height": 17
        },
        "outputId": "64a4e286-979a-46bf-8056-7eb897134b74"
      },
      "source": [
        "save_quality_submission_json(cl_name)"
      ],
      "execution_count": null,
      "outputs": [
        {
          "output_type": "display_data",
          "data": {
            "text/html": [
              ""
            ],
            "text/plain": [
              "<IPython.core.display.HTML object>"
            ]
          },
          "metadata": {
            "tags": []
          }
        }
      ]
    },
    {
      "cell_type": "code",
      "metadata": {
        "id": "2QuszXN43bTZ"
      },
      "source": [
        "lrnr.export(fname=f'{cl_name}.pkl')"
      ],
      "execution_count": null,
      "outputs": []
    },
    {
      "cell_type": "code",
      "metadata": {
        "id": "S0a0ykNl45Hc"
      },
      "source": [
        ""
      ],
      "execution_count": null,
      "outputs": []
    }
  ]
}